{
 "cells": [
  {
   "cell_type": "code",
   "execution_count": 7,
   "id": "8214be6e",
   "metadata": {},
   "outputs": [
    {
     "data": {
      "text/plain": [
       "array([1800, 1500, 2200, 3000, 2172, 5000, 1400, 1200, 1100, 1300])"
      ]
     },
     "execution_count": 7,
     "metadata": {},
     "output_type": "execute_result"
    }
   ],
   "source": [
    "import numpy as np\n",
    "\n",
    "liste = [1800, 1500, 2200, 3000, 2172, 5000, 1400, 1200, 1100, 1300]\n",
    "\n",
    "revenus = np.array(liste)\n",
    "\n",
    "revenus"
   ]
  },
  {
   "cell_type": "code",
   "execution_count": 2,
   "id": "4d5be69e",
   "metadata": {},
   "outputs": [
    {
     "data": {
      "text/plain": [
       "array([5000])"
      ]
     },
     "execution_count": 2,
     "metadata": {},
     "output_type": "execute_result"
    }
   ],
   "source": [
    "haut_revenus = revenus[revenus > 3000]\n",
    "\n",
    "haut_revenus"
   ]
  },
  {
   "cell_type": "code",
   "execution_count": 8,
   "id": "98f8511f",
   "metadata": {},
   "outputs": [
    {
     "data": {
      "text/plain": [
       "248064"
      ]
     },
     "execution_count": 8,
     "metadata": {},
     "output_type": "execute_result"
    }
   ],
   "source": [
    "somme = revenus.sum() * 12\n",
    "somme"
   ]
  },
  {
   "cell_type": "code",
   "execution_count": 9,
   "id": "19b29e5d",
   "metadata": {},
   "outputs": [
    {
     "data": {
      "text/plain": [
       "24806"
      ]
     },
     "execution_count": 9,
     "metadata": {},
     "output_type": "execute_result"
    }
   ],
   "source": [
    "moyenne = somme // 10\n",
    "\n",
    "moyenne"
   ]
  },
  {
   "cell_type": "code",
   "execution_count": 10,
   "id": "bfbd6538",
   "metadata": {},
   "outputs": [
    {
     "data": {
      "text/plain": [
       "array([1800, 1500, 2200, 3000, 2172, 5000, 1600, 1200, 1100, 1300])"
      ]
     },
     "execution_count": 10,
     "metadata": {},
     "output_type": "execute_result"
    }
   ],
   "source": [
    "revenus[revenus == 1400] += 200\n",
    "\n",
    "revenus"
   ]
  },
  {
   "cell_type": "code",
   "execution_count": null,
   "id": "966bf683",
   "metadata": {},
   "outputs": [],
   "source": []
  }
 ],
 "metadata": {
  "kernelspec": {
   "display_name": "Python 3",
   "language": "python",
   "name": "python3"
  },
  "language_info": {
   "codemirror_mode": {
    "name": "ipython",
    "version": 3
   },
   "file_extension": ".py",
   "mimetype": "text/x-python",
   "name": "python",
   "nbconvert_exporter": "python",
   "pygments_lexer": "ipython3",
   "version": "3.8.8"
  }
 },
 "nbformat": 4,
 "nbformat_minor": 5
}
