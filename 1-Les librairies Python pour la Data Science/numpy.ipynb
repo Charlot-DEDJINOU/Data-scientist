{
 "cells": [
  {
   "cell_type": "code",
   "execution_count": null,
   "id": "ba4abdcb",
   "metadata": {},
   "outputs": [],
   "source": [
    "#numpy\n",
    "\n",
    "import numpy as np\n",
    "\n",
    "def moyenne(tab) :\n",
    "    return sum(tab)/len(tab)\n",
    "\n",
    "revenus = [1800, 1500, 2200, 3000, 2172]\n",
    "\n",
    "#moyenne sans numpy\n",
    "print(moyenne(revenus))\n",
    "\n",
    "#moyenne avec numpy\n",
    "print(np.mean(revenus))\n",
    "\n",
    "#generer des tableaux numpy\n",
    "array_revenus = np.array(revenus) #conversion d'une liste en array de np\n",
    "print(array_revenus) \n",
    "print(np.ones(7)) #generer un tableau de 7 0\n",
    "print(np.zeros(7)) #generer un tableau de 7 1\n",
    "print(np.arange(0,7,1)) #generer un tableau de 0 à 7 par bon de 1\n",
    "print(np.linspace(1,5,7)) #generer un tableau de 7 éléments avec une disatance égale entre 1 et 5\n",
    "print(array_revenus.dtype) #type des données du tableau\n",
    "print(array_revenus.shape) #taille du tableau\n",
    "\n",
    "#exo\n",
    "a = np.linspace(5, 10, 11)\n",
    "print(a[-3:-1])\n",
    "\n",
    "b = np.array([[[1, 2],[4, 5]],\n",
    "        [[6, 7],[8, 9]],\n",
    "        [[10, 11],[12, 13]]])\n",
    "\n",
    "print(b.shape)\n",
    "\n",
    "b[2, :, :]\n",
    "\n",
    "b.reshape([4, 1, 3]) #redimensionnemen"
   ]
  }
 ],
 "metadata": {
  "kernelspec": {
   "display_name": "Python 3",
   "language": "python",
   "name": "python3"
  },
  "language_info": {
   "codemirror_mode": {
    "name": "ipython",
    "version": 3
   },
   "file_extension": ".py",
   "mimetype": "text/x-python",
   "name": "python",
   "nbconvert_exporter": "python",
   "pygments_lexer": "ipython3",
   "version": "3.8.8"
  }
 },
 "nbformat": 4,
 "nbformat_minor": 5
}
