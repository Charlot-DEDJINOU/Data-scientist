{
 "cells": [
  {
   "cell_type": "markdown",
   "id": "3fdfff61",
   "metadata": {},
   "source": [
    "# Sommaire :\n",
    " - <a href=\"#C1\">Importation des données</a>\n",
    " \n",
    "**Partie 2 : Nettoyez un jeu de données**\n",
    " - <a href=\"#C2\">Nettoyez votre jeu de données</a>\n",
    " \n",
    "**Partie 3 : Représentez vos variables**\n",
    " - <a href=\"#C3\">Représentez la distribution empirique d'une variable</a>\n",
    " - <a href=\"#C4\">Présentez une variable sous forme de tableau</a>\n",
    " - <a href=\"#C5\">Découvrez les mesures de tendance centrale</a>\n",
    " - <a href=\"#C6\">Comprenez les mesures de dispersion</a>\n",
    " - <a href=\"#C7\">Appréhendez les mesures de forme</a>\n",
    " - <a href=\"#C8\">Familiarisez-vous avec les mesures de concentration</a>\n",
    " \n",
    "**Partie 4 : Réalisez une analyse bivariée**\n",
    " - <a href=\"#C9\">Analysez la corrélation entre deux variables quantitatives</a>\n",
    " - <a href=\"#C10\">Analysez deux variables quantitatives par régression linéaire</a>\n",
    " - <a href=\"#C11\">Analysez une variable quantitative et une qualitative par ANOVA</a>\n",
    " - <a href=\"#C12\">Analysez deux variables qualitatives avec le Chi-2</a>\n",
    "\n",
    "# <a name=\"C1\">Importation des données</a>\n",
    "\n",
    "Les données que nous allons utiliser tout au long de ce cours se trouvent dans le même dossier compressé où vous avez trouvé le présent notebook. Comme annoncé en préambule, c'est un fichier contenant les relevés bancaires (fictives) d'un individu. Importons dans un premier temps l'ensemble des librairies qui vont nous servir durant l'entièreté de ce cours :"
   ]
  },
  {
   "cell_type": "code",
   "execution_count": 2,
   "id": "6a36b39d",
   "metadata": {},
   "outputs": [],
   "source": [
    "import pandas as pd\n",
    "import numpy as np\n",
    "import matplotlib.pyplot as plt\n",
    "import seaborn as sns\n",
    "import datetime as dt\n",
    "import scipy.stats as st"
   ]
  },
  {
   "cell_type": "markdown",
   "id": "502d7810",
   "metadata": {},
   "source": [
    "Nous pouvons à présent charger le jeu de données, dans un dataframe que nous nommerons ici `data`. Nous affichons ensuite les 5 premières lignes."
   ]
  },
  {
   "cell_type": "code",
   "execution_count": 5,
   "id": "7701d0e3",
   "metadata": {
    "scrolled": true
   },
   "outputs": [
    {
     "data": {
      "text/html": [
       "<div>\n",
       "<style scoped>\n",
       "    .dataframe tbody tr th:only-of-type {\n",
       "        vertical-align: middle;\n",
       "    }\n",
       "\n",
       "    .dataframe tbody tr th {\n",
       "        vertical-align: top;\n",
       "    }\n",
       "\n",
       "    .dataframe thead th {\n",
       "        text-align: right;\n",
       "    }\n",
       "</style>\n",
       "<table border=\"1\" class=\"dataframe\">\n",
       "  <thead>\n",
       "    <tr style=\"text-align: right;\">\n",
       "      <th></th>\n",
       "      <th>date_operation</th>\n",
       "      <th>libelle</th>\n",
       "      <th>montant</th>\n",
       "      <th>solde_avt_ope</th>\n",
       "      <th>categ</th>\n",
       "    </tr>\n",
       "  </thead>\n",
       "  <tbody>\n",
       "    <tr>\n",
       "      <th>0</th>\n",
       "      <td>2023-03-31</td>\n",
       "      <td>DON XX XX XX XX XX XX XX</td>\n",
       "      <td>-1.44</td>\n",
       "      <td>1515.25</td>\n",
       "      <td>AUTRE</td>\n",
       "    </tr>\n",
       "    <tr>\n",
       "      <th>1</th>\n",
       "      <td>2023-04-03</td>\n",
       "      <td>CARTE XX XX RAPT XX</td>\n",
       "      <td>-24.00</td>\n",
       "      <td>1513.81</td>\n",
       "      <td>TRANSPORT</td>\n",
       "    </tr>\n",
       "    <tr>\n",
       "      <th>2</th>\n",
       "      <td>2023-04-03</td>\n",
       "      <td>CARTE XX XX RAPT XX</td>\n",
       "      <td>-73.00</td>\n",
       "      <td>1489.81</td>\n",
       "      <td>TRANSPORT</td>\n",
       "    </tr>\n",
       "    <tr>\n",
       "      <th>3</th>\n",
       "      <td>2023-04-03</td>\n",
       "      <td>VIREMENT XX XX XX XX XX XX XX XX XX XX XX XX</td>\n",
       "      <td>676.00</td>\n",
       "      <td>1416.81</td>\n",
       "      <td>AUTRE</td>\n",
       "    </tr>\n",
       "    <tr>\n",
       "      <th>4</th>\n",
       "      <td>2023-04-03</td>\n",
       "      <td>VIREMENT XX XX XX XX XX XX</td>\n",
       "      <td>4.80</td>\n",
       "      <td>2092.81</td>\n",
       "      <td>AUTRE</td>\n",
       "    </tr>\n",
       "  </tbody>\n",
       "</table>\n",
       "</div>"
      ],
      "text/plain": [
       "  date_operation                                       libelle  montant  \\\n",
       "0     2023-03-31                      DON XX XX XX XX XX XX XX    -1.44   \n",
       "1     2023-04-03                           CARTE XX XX RAPT XX   -24.00   \n",
       "2     2023-04-03                           CARTE XX XX RAPT XX   -73.00   \n",
       "3     2023-04-03  VIREMENT XX XX XX XX XX XX XX XX XX XX XX XX   676.00   \n",
       "4     2023-04-03                    VIREMENT XX XX XX XX XX XX     4.80   \n",
       "\n",
       "   solde_avt_ope      categ  \n",
       "0        1515.25      AUTRE  \n",
       "1        1513.81  TRANSPORT  \n",
       "2        1489.81  TRANSPORT  \n",
       "3        1416.81      AUTRE  \n",
       "4        2092.81      AUTRE  "
      ]
     },
     "execution_count": 5,
     "metadata": {},
     "output_type": "execute_result"
    }
   ],
   "source": [
    "data = pd.read_csv('../data/operations.csv')\n",
    "data.head()"
   ]
  },
  {
   "cell_type": "code",
   "execution_count": 6,
   "id": "55b679d3",
   "metadata": {},
   "outputs": [
    {
     "data": {
      "text/plain": [
       "(309, 5)"
      ]
     },
     "execution_count": 6,
     "metadata": {},
     "output_type": "execute_result"
    }
   ],
   "source": [
    "data.shape"
   ]
  },
  {
   "cell_type": "markdown",
   "id": "baa1b3b9",
   "metadata": {},
   "source": [
    "Comme vous pouvez le voir via la commande ci dessus, nous avons 309 transactions, renseignées sur 5 variables différentes. Nous avons notamment : \n",
    "- date_operation : date de l'opération\n",
    "- libelle : libellé de l'opération\n",
    "- montant : montant de l'opération\n",
    "- solde_avt_ope : solde du compte avant l'opération considérée\n",
    "- categ : catégorie d'achat\n",
    "\n",
    "<font color='darkred'>*vous aurez probablement moins d'informations sur vos propres relevés bancaires. Nous avons réalisé quelques lignes de codes en amont pour ajouter la catégorie d'achat*</font>"
   ]
  },
  {
   "cell_type": "markdown",
   "id": "e33dd8f4",
   "metadata": {},
   "source": [
    "# <a name=\"C2\">P2C3 - Nettoyez votre jeu de données</a>\n",
    "\n",
    "Il est à présent temps de mettre en pratique tout ce que nous avons vu sur notre jeu de données de transactions bancaires. Plusieurs **erreurs** se sont glissées dans ce jeu de données. Votre mission, si toutefois vous l'acceptez, va être de les **trouver** et de **proposer des solutions** adéquates pour les gérer.\n",
    "\n",
    "### 1. Erreurs de type\n",
    "\n",
    "Le premier reflexe devrait être de vérifier que les variables ont bien été importées dans le bon type :"
   ]
  },
  {
   "cell_type": "code",
   "execution_count": 7,
   "id": "332228ac",
   "metadata": {},
   "outputs": [
    {
     "data": {
      "text/plain": [
       "date_operation     object\n",
       "libelle            object\n",
       "montant           float64\n",
       "solde_avt_ope     float64\n",
       "categ              object\n",
       "dtype: object"
      ]
     },
     "execution_count": 7,
     "metadata": {},
     "output_type": "execute_result"
    }
   ],
   "source": [
    "data.dtypes"
   ]
  },
  {
   "cell_type": "markdown",
   "id": "dcf06004",
   "metadata": {},
   "source": [
    "La seule chose qui semble être problématique est la variable date qui n'est pas considérée comme une date. On peut corriger cela facilement via la fonction `to_datetime` de pandas :"
   ]
  },
  {
   "cell_type": "code",
   "execution_count": 8,
   "id": "a03b7378",
   "metadata": {},
   "outputs": [],
   "source": [
    "data['date_operation'] = pd.to_datetime(data['date_operation'])"
   ]
  },
  {
   "cell_type": "markdown",
   "id": "5973f67e",
   "metadata": {},
   "source": [
    "Sinon, tout semble en ordre\n",
    "\n",
    "### 2. Valeurs manquantes\n",
    "\n",
    "On va ensuite vérifier si notre jeu de données contient des valeurs manquantes :"
   ]
  },
  {
   "cell_type": "code",
   "execution_count": 9,
   "id": "fbdb3e8f",
   "metadata": {},
   "outputs": [
    {
     "data": {
      "text/plain": [
       "date_operation    0\n",
       "libelle           0\n",
       "montant           2\n",
       "solde_avt_ope     0\n",
       "categ             1\n",
       "dtype: int64"
      ]
     },
     "execution_count": 9,
     "metadata": {},
     "output_type": "execute_result"
    }
   ],
   "source": [
    "data.isnull().sum()"
   ]
  },
  {
   "cell_type": "code",
   "execution_count": 10,
   "id": "f23eee5e",
   "metadata": {},
   "outputs": [
    {
     "data": {
      "text/plain": [
       "montant    2\n",
       "categ      1\n",
       "dtype: int64"
      ]
     },
     "execution_count": 10,
     "metadata": {},
     "output_type": "execute_result"
    }
   ],
   "source": [
    "# pour afficher uniquement les variables qui ont des valeurs manquantes\n",
    "nb_na = data.isnull().sum()\n",
    "nb_na[nb_na>0]"
   ]
  },
  {
   "cell_type": "markdown",
   "id": "7e311161",
   "metadata": {},
   "source": [
    "On observe que notre jeu de données contient 3 valeurs manquantes. Regardons les plus en détails :"
   ]
  },
  {
   "cell_type": "code",
   "execution_count": 11,
   "id": "da7c8218",
   "metadata": {},
   "outputs": [
    {
     "data": {
      "text/html": [
       "<div>\n",
       "<style scoped>\n",
       "    .dataframe tbody tr th:only-of-type {\n",
       "        vertical-align: middle;\n",
       "    }\n",
       "\n",
       "    .dataframe tbody tr th {\n",
       "        vertical-align: top;\n",
       "    }\n",
       "\n",
       "    .dataframe thead th {\n",
       "        text-align: right;\n",
       "    }\n",
       "</style>\n",
       "<table border=\"1\" class=\"dataframe\">\n",
       "  <thead>\n",
       "    <tr style=\"text-align: right;\">\n",
       "      <th></th>\n",
       "      <th>date_operation</th>\n",
       "      <th>libelle</th>\n",
       "      <th>montant</th>\n",
       "      <th>solde_avt_ope</th>\n",
       "      <th>categ</th>\n",
       "    </tr>\n",
       "  </thead>\n",
       "  <tbody>\n",
       "    <tr>\n",
       "      <th>107</th>\n",
       "      <td>2023-06-12</td>\n",
       "      <td>CARTE XX XX LES ANCIENS ROBINSON XX</td>\n",
       "      <td>NaN</td>\n",
       "      <td>4667.19</td>\n",
       "      <td>COURSES</td>\n",
       "    </tr>\n",
       "    <tr>\n",
       "      <th>269</th>\n",
       "      <td>2023-09-11</td>\n",
       "      <td>CARTE XX XX XX XX</td>\n",
       "      <td>NaN</td>\n",
       "      <td>3401.93</td>\n",
       "      <td>AUTRE</td>\n",
       "    </tr>\n",
       "  </tbody>\n",
       "</table>\n",
       "</div>"
      ],
      "text/plain": [
       "    date_operation                              libelle  montant  \\\n",
       "107     2023-06-12  CARTE XX XX LES ANCIENS ROBINSON XX      NaN   \n",
       "269     2023-09-11                    CARTE XX XX XX XX      NaN   \n",
       "\n",
       "     solde_avt_ope    categ  \n",
       "107        4667.19  COURSES  \n",
       "269        3401.93    AUTRE  "
      ]
     },
     "execution_count": 11,
     "metadata": {},
     "output_type": "execute_result"
    }
   ],
   "source": [
    "data.loc[data['montant'].isnull(),:]"
   ]
  },
  {
   "cell_type": "markdown",
   "id": "58dcd3f8",
   "metadata": {},
   "source": [
    "Ici, il reste relativement simple de remplacer les valeurs manquantes : en effet, les transactions étant organisées par ordre chronologique, on peut à partir du solde de l'opération suivante déduire le montant qui a été débité pour chacune des ces opérations.\n",
    "\n",
    "Le montant manquant correspond donc au solde de l'opération suivante, moins le solde de l'opération concernée. Voilà comment faire cela pour nos lignes concernées :"
   ]
  },
  {
   "cell_type": "code",
   "execution_count": 12,
   "id": "4aeff4f3",
   "metadata": {},
   "outputs": [],
   "source": [
    "# on stocke le df des valeurs manquantes dans un nouveau df\n",
    "data_na = data.loc[data['montant'].isnull(),:]\n",
    "\n",
    "# pour chaque ligne de mon df, on récupère les index (qui ne changent pas au travers du .loc)\n",
    "for index in data_na.index:\n",
    "    # calcul du montant à partir des soldes précédents et actuels\n",
    "    data.loc[index, 'montant'] = data.loc[index+1, 'solde_avt_ope'] - data.loc[index, 'solde_avt_ope']"
   ]
  },
  {
   "cell_type": "markdown",
   "id": "9839a14e",
   "metadata": {},
   "source": [
    "A présent regardons la categorie manquante :"
   ]
  },
  {
   "cell_type": "code",
   "execution_count": 13,
   "id": "39c8bdba",
   "metadata": {},
   "outputs": [
    {
     "data": {
      "text/html": [
       "<div>\n",
       "<style scoped>\n",
       "    .dataframe tbody tr th:only-of-type {\n",
       "        vertical-align: middle;\n",
       "    }\n",
       "\n",
       "    .dataframe tbody tr th {\n",
       "        vertical-align: top;\n",
       "    }\n",
       "\n",
       "    .dataframe thead th {\n",
       "        text-align: right;\n",
       "    }\n",
       "</style>\n",
       "<table border=\"1\" class=\"dataframe\">\n",
       "  <thead>\n",
       "    <tr style=\"text-align: right;\">\n",
       "      <th></th>\n",
       "      <th>date_operation</th>\n",
       "      <th>libelle</th>\n",
       "      <th>montant</th>\n",
       "      <th>solde_avt_ope</th>\n",
       "      <th>categ</th>\n",
       "    </tr>\n",
       "  </thead>\n",
       "  <tbody>\n",
       "    <tr>\n",
       "      <th>156</th>\n",
       "      <td>2023-07-06</td>\n",
       "      <td>PRELEVEMENT XX TELEPHONE XX XX</td>\n",
       "      <td>-36.48</td>\n",
       "      <td>3295.68</td>\n",
       "      <td>NaN</td>\n",
       "    </tr>\n",
       "  </tbody>\n",
       "</table>\n",
       "</div>"
      ],
      "text/plain": [
       "    date_operation                         libelle  montant  solde_avt_ope  \\\n",
       "156     2023-07-06  PRELEVEMENT XX TELEPHONE XX XX   -36.48        3295.68   \n",
       "\n",
       "    categ  \n",
       "156   NaN  "
      ]
     },
     "execution_count": 13,
     "metadata": {},
     "output_type": "execute_result"
    }
   ],
   "source": [
    "data.loc[data['categ'].isnull(),:]"
   ]
  },
  {
   "cell_type": "markdown",
   "id": "343dedcd",
   "metadata": {},
   "source": [
    "Par manque d'informations, on devrait supprimer ici la ligne correspondante. Mais regardons si nous ne pouvons pas trouver la catégorie à partir des autres informations, notamment le libellé :"
   ]
  },
  {
   "cell_type": "code",
   "execution_count": 14,
   "id": "4927ccee",
   "metadata": {},
   "outputs": [
    {
     "data": {
      "text/html": [
       "<div>\n",
       "<style scoped>\n",
       "    .dataframe tbody tr th:only-of-type {\n",
       "        vertical-align: middle;\n",
       "    }\n",
       "\n",
       "    .dataframe tbody tr th {\n",
       "        vertical-align: top;\n",
       "    }\n",
       "\n",
       "    .dataframe thead th {\n",
       "        text-align: right;\n",
       "    }\n",
       "</style>\n",
       "<table border=\"1\" class=\"dataframe\">\n",
       "  <thead>\n",
       "    <tr style=\"text-align: right;\">\n",
       "      <th></th>\n",
       "      <th>date_operation</th>\n",
       "      <th>libelle</th>\n",
       "      <th>montant</th>\n",
       "      <th>solde_avt_ope</th>\n",
       "      <th>categ</th>\n",
       "    </tr>\n",
       "  </thead>\n",
       "  <tbody>\n",
       "    <tr>\n",
       "      <th>8</th>\n",
       "      <td>2023-04-05</td>\n",
       "      <td>PRELEVEMENT XX TELEPHONE XX XX</td>\n",
       "      <td>-7.02</td>\n",
       "      <td>2056.02</td>\n",
       "      <td>FACTURE TELEPHONE</td>\n",
       "    </tr>\n",
       "    <tr>\n",
       "      <th>62</th>\n",
       "      <td>2023-05-09</td>\n",
       "      <td>PRELEVEMENT XX TELEPHONE XX XX</td>\n",
       "      <td>-7.02</td>\n",
       "      <td>4090.10</td>\n",
       "      <td>FACTURE TELEPHONE</td>\n",
       "    </tr>\n",
       "    <tr>\n",
       "      <th>102</th>\n",
       "      <td>2023-06-07</td>\n",
       "      <td>PRELEVEMENT XX TELEPHONE XX XX</td>\n",
       "      <td>-6.38</td>\n",
       "      <td>4688.91</td>\n",
       "      <td>FACTURE TELEPHONE</td>\n",
       "    </tr>\n",
       "    <tr>\n",
       "      <th>156</th>\n",
       "      <td>2023-07-06</td>\n",
       "      <td>PRELEVEMENT XX TELEPHONE XX XX</td>\n",
       "      <td>-36.48</td>\n",
       "      <td>3295.68</td>\n",
       "      <td>NaN</td>\n",
       "    </tr>\n",
       "    <tr>\n",
       "      <th>204</th>\n",
       "      <td>2023-08-07</td>\n",
       "      <td>PRELEVEMENT XX TELEPHONE XX XX</td>\n",
       "      <td>-7.46</td>\n",
       "      <td>3751.73</td>\n",
       "      <td>FACTURE TELEPHONE</td>\n",
       "    </tr>\n",
       "    <tr>\n",
       "      <th>260</th>\n",
       "      <td>2023-09-05</td>\n",
       "      <td>PRELEVEMENT XX TELEPHONE XX XX</td>\n",
       "      <td>-6.38</td>\n",
       "      <td>3453.96</td>\n",
       "      <td>FACTURE TELEPHONE</td>\n",
       "    </tr>\n",
       "    <tr>\n",
       "      <th>308</th>\n",
       "      <td>2023-10-06</td>\n",
       "      <td>PRELEVEMENT XX TELEPHONE XX XX</td>\n",
       "      <td>-13.58</td>\n",
       "      <td>2413.58</td>\n",
       "      <td>FACTURE TELEPHONE</td>\n",
       "    </tr>\n",
       "  </tbody>\n",
       "</table>\n",
       "</div>"
      ],
      "text/plain": [
       "    date_operation                         libelle  montant  solde_avt_ope  \\\n",
       "8       2023-04-05  PRELEVEMENT XX TELEPHONE XX XX    -7.02        2056.02   \n",
       "62      2023-05-09  PRELEVEMENT XX TELEPHONE XX XX    -7.02        4090.10   \n",
       "102     2023-06-07  PRELEVEMENT XX TELEPHONE XX XX    -6.38        4688.91   \n",
       "156     2023-07-06  PRELEVEMENT XX TELEPHONE XX XX   -36.48        3295.68   \n",
       "204     2023-08-07  PRELEVEMENT XX TELEPHONE XX XX    -7.46        3751.73   \n",
       "260     2023-09-05  PRELEVEMENT XX TELEPHONE XX XX    -6.38        3453.96   \n",
       "308     2023-10-06  PRELEVEMENT XX TELEPHONE XX XX   -13.58        2413.58   \n",
       "\n",
       "                 categ  \n",
       "8    FACTURE TELEPHONE  \n",
       "62   FACTURE TELEPHONE  \n",
       "102  FACTURE TELEPHONE  \n",
       "156                NaN  \n",
       "204  FACTURE TELEPHONE  \n",
       "260  FACTURE TELEPHONE  \n",
       "308  FACTURE TELEPHONE  "
      ]
     },
     "execution_count": 14,
     "metadata": {},
     "output_type": "execute_result"
    }
   ],
   "source": [
    "data.loc[data['libelle'] == 'PRELEVEMENT XX TELEPHONE XX XX', :]"
   ]
  },
  {
   "cell_type": "markdown",
   "id": "69e2a93b",
   "metadata": {},
   "source": [
    "On déduit assez facilement que la catégorie manquante ici est : FACTURE TELEPHONE"
   ]
  },
  {
   "cell_type": "code",
   "execution_count": 15,
   "id": "174e2db3",
   "metadata": {},
   "outputs": [],
   "source": [
    "data.loc[data['categ'].isnull(), 'categ'] = 'FACTURE TELEPHONE'"
   ]
  },
  {
   "cell_type": "markdown",
   "id": "8d539512",
   "metadata": {},
   "source": [
    "### 3. Doublons \n",
    "\n",
    "Regardons à présent si certaines transactions sont apparues en doublons. Pour cela, on se concentrera sur des informations qui ne peuvent normalement pas être doublés, soit : la date, le libelle, le montant et le solde avant opération. Sur ces 4 variables, il n'est normalement pas possible d'avoir deux transactions identiques :"
   ]
  },
  {
   "cell_type": "code",
   "execution_count": 16,
   "id": "4780483e",
   "metadata": {},
   "outputs": [
    {
     "data": {
      "text/html": [
       "<div>\n",
       "<style scoped>\n",
       "    .dataframe tbody tr th:only-of-type {\n",
       "        vertical-align: middle;\n",
       "    }\n",
       "\n",
       "    .dataframe tbody tr th {\n",
       "        vertical-align: top;\n",
       "    }\n",
       "\n",
       "    .dataframe thead th {\n",
       "        text-align: right;\n",
       "    }\n",
       "</style>\n",
       "<table border=\"1\" class=\"dataframe\">\n",
       "  <thead>\n",
       "    <tr style=\"text-align: right;\">\n",
       "      <th></th>\n",
       "      <th>date_operation</th>\n",
       "      <th>libelle</th>\n",
       "      <th>montant</th>\n",
       "      <th>solde_avt_ope</th>\n",
       "      <th>categ</th>\n",
       "    </tr>\n",
       "  </thead>\n",
       "  <tbody>\n",
       "    <tr>\n",
       "      <th>43</th>\n",
       "      <td>2023-04-25</td>\n",
       "      <td>CARTE XX XX LES ANCIENS ROBINSON XX</td>\n",
       "      <td>-32.67</td>\n",
       "      <td>3647.67</td>\n",
       "      <td>COURSES</td>\n",
       "    </tr>\n",
       "    <tr>\n",
       "      <th>44</th>\n",
       "      <td>2023-04-25</td>\n",
       "      <td>CARTE XX XX LES ANCIENS ROBINSON XX</td>\n",
       "      <td>-32.67</td>\n",
       "      <td>3647.67</td>\n",
       "      <td>COURSES</td>\n",
       "    </tr>\n",
       "  </tbody>\n",
       "</table>\n",
       "</div>"
      ],
      "text/plain": [
       "   date_operation                              libelle  montant  \\\n",
       "43     2023-04-25  CARTE XX XX LES ANCIENS ROBINSON XX   -32.67   \n",
       "44     2023-04-25  CARTE XX XX LES ANCIENS ROBINSON XX   -32.67   \n",
       "\n",
       "    solde_avt_ope    categ  \n",
       "43        3647.67  COURSES  \n",
       "44        3647.67  COURSES  "
      ]
     },
     "execution_count": 16,
     "metadata": {},
     "output_type": "execute_result"
    }
   ],
   "source": [
    "data.loc[data[['date_operation', 'libelle', 'montant', 'solde_avt_ope']].duplicated(keep=False),:]"
   ]
  },
  {
   "cell_type": "markdown",
   "id": "5f9368d6",
   "metadata": {},
   "source": [
    "On a ici une opération qui est complètement en double. Il suffit donc de supprimer l'une des deux via le drop_duplicate"
   ]
  },
  {
   "cell_type": "code",
   "execution_count": 17,
   "id": "37be2106",
   "metadata": {},
   "outputs": [],
   "source": [
    "data.drop_duplicates(subset=['date_operation', 'libelle', 'montant', 'solde_avt_ope'], inplace=True, ignore_index=True)"
   ]
  },
  {
   "cell_type": "markdown",
   "id": "58c31994",
   "metadata": {},
   "source": [
    "### 4. Détection d'outliers :\n",
    "\n",
    "Un describe peut potentiellement nous aider dans un premier temps :"
   ]
  },
  {
   "cell_type": "code",
   "execution_count": 18,
   "id": "ebb053d0",
   "metadata": {},
   "outputs": [
    {
     "data": {
      "text/html": [
       "<div>\n",
       "<style scoped>\n",
       "    .dataframe tbody tr th:only-of-type {\n",
       "        vertical-align: middle;\n",
       "    }\n",
       "\n",
       "    .dataframe tbody tr th {\n",
       "        vertical-align: top;\n",
       "    }\n",
       "\n",
       "    .dataframe thead th {\n",
       "        text-align: right;\n",
       "    }\n",
       "</style>\n",
       "<table border=\"1\" class=\"dataframe\">\n",
       "  <thead>\n",
       "    <tr style=\"text-align: right;\">\n",
       "      <th></th>\n",
       "      <th>montant</th>\n",
       "      <th>solde_avt_ope</th>\n",
       "    </tr>\n",
       "  </thead>\n",
       "  <tbody>\n",
       "    <tr>\n",
       "      <th>count</th>\n",
       "      <td>308.000000</td>\n",
       "      <td>308.000000</td>\n",
       "    </tr>\n",
       "    <tr>\n",
       "      <th>mean</th>\n",
       "      <td>-45.782013</td>\n",
       "      <td>3395.301071</td>\n",
       "    </tr>\n",
       "    <tr>\n",
       "      <th>std</th>\n",
       "      <td>872.818105</td>\n",
       "      <td>667.109412</td>\n",
       "    </tr>\n",
       "    <tr>\n",
       "      <th>min</th>\n",
       "      <td>-15000.000000</td>\n",
       "      <td>1416.810000</td>\n",
       "    </tr>\n",
       "    <tr>\n",
       "      <th>25%</th>\n",
       "      <td>-20.447500</td>\n",
       "      <td>3010.737500</td>\n",
       "    </tr>\n",
       "    <tr>\n",
       "      <th>50%</th>\n",
       "      <td>-9.600000</td>\n",
       "      <td>3452.465000</td>\n",
       "    </tr>\n",
       "    <tr>\n",
       "      <th>75%</th>\n",
       "      <td>-2.715000</td>\n",
       "      <td>3787.232500</td>\n",
       "    </tr>\n",
       "    <tr>\n",
       "      <th>max</th>\n",
       "      <td>1071.600000</td>\n",
       "      <td>4709.310000</td>\n",
       "    </tr>\n",
       "  </tbody>\n",
       "</table>\n",
       "</div>"
      ],
      "text/plain": [
       "            montant  solde_avt_ope\n",
       "count    308.000000     308.000000\n",
       "mean     -45.782013    3395.301071\n",
       "std      872.818105     667.109412\n",
       "min   -15000.000000    1416.810000\n",
       "25%      -20.447500    3010.737500\n",
       "50%       -9.600000    3452.465000\n",
       "75%       -2.715000    3787.232500\n",
       "max     1071.600000    4709.310000"
      ]
     },
     "execution_count": 18,
     "metadata": {},
     "output_type": "execute_result"
    }
   ],
   "source": [
    "data.describe()"
   ]
  },
  {
   "cell_type": "markdown",
   "id": "3f66bcfb",
   "metadata": {},
   "source": [
    "Une bonne première approche en attendant d'avoir des outils plus adéquats, est de regarder le maximum et le minimum. Cela donne généralement un premier apperçu de ce qui pourrait clocher à ce niveau. Ici on voit un minimum de montant de -15 000 (ce qui correspondrait à un débit de -15000). Cela semble assez étonnant, d'autant que le solde ne semble pas descendre en conséquence à aucun moment (le max est 4700 et le minimum 1416). Vérifions les soldes autour de cette transaction :"
   ]
  },
  {
   "cell_type": "code",
   "execution_count": 19,
   "id": "62c36583",
   "metadata": {},
   "outputs": [
    {
     "data": {
      "text/html": [
       "<div>\n",
       "<style scoped>\n",
       "    .dataframe tbody tr th:only-of-type {\n",
       "        vertical-align: middle;\n",
       "    }\n",
       "\n",
       "    .dataframe tbody tr th {\n",
       "        vertical-align: top;\n",
       "    }\n",
       "\n",
       "    .dataframe thead th {\n",
       "        text-align: right;\n",
       "    }\n",
       "</style>\n",
       "<table border=\"1\" class=\"dataframe\">\n",
       "  <thead>\n",
       "    <tr style=\"text-align: right;\">\n",
       "      <th></th>\n",
       "      <th>date_operation</th>\n",
       "      <th>libelle</th>\n",
       "      <th>montant</th>\n",
       "      <th>solde_avt_ope</th>\n",
       "      <th>categ</th>\n",
       "    </tr>\n",
       "  </thead>\n",
       "  <tbody>\n",
       "    <tr>\n",
       "      <th>197</th>\n",
       "      <td>2023-08-03</td>\n",
       "      <td>VIREMENT XX XX XX XX XX XX XX XX XX XX XX XX</td>\n",
       "      <td>676.00</td>\n",
       "      <td>3121.35</td>\n",
       "      <td>AUTRE</td>\n",
       "    </tr>\n",
       "    <tr>\n",
       "      <th>198</th>\n",
       "      <td>2023-08-03</td>\n",
       "      <td>CARTE XX XX XX XX</td>\n",
       "      <td>-15000.00</td>\n",
       "      <td>3797.35</td>\n",
       "      <td>AUTRE</td>\n",
       "    </tr>\n",
       "    <tr>\n",
       "      <th>199</th>\n",
       "      <td>2023-08-03</td>\n",
       "      <td>CARTE XX XX L'EPICERIE DEMBAS XX XX</td>\n",
       "      <td>-10.51</td>\n",
       "      <td>3782.96</td>\n",
       "      <td>AUTRE</td>\n",
       "    </tr>\n",
       "  </tbody>\n",
       "</table>\n",
       "</div>"
      ],
      "text/plain": [
       "    date_operation                                       libelle   montant  \\\n",
       "197     2023-08-03  VIREMENT XX XX XX XX XX XX XX XX XX XX XX XX    676.00   \n",
       "198     2023-08-03                             CARTE XX XX XX XX -15000.00   \n",
       "199     2023-08-03           CARTE XX XX L'EPICERIE DEMBAS XX XX    -10.51   \n",
       "\n",
       "     solde_avt_ope  categ  \n",
       "197        3121.35  AUTRE  \n",
       "198        3797.35  AUTRE  \n",
       "199        3782.96  AUTRE  "
      ]
     },
     "execution_count": 19,
     "metadata": {},
     "output_type": "execute_result"
    }
   ],
   "source": [
    "i = data.loc[data['montant']==-15000,:].index[0] # récupération de l'index de la transaction à -15000\n",
    "\n",
    "data.iloc[i-1:i+2,:] # on regarde la transaction précédente et la suivante"
   ]
  },
  {
   "cell_type": "markdown",
   "id": "af54bd06",
   "metadata": {},
   "source": [
    "Il y a en effet une grosse incohérence. Les soldes nous indique une opération de -14.39 et non de -15000. Il y a en effet une valeur abérrante ici ! Remplaçons donc là pour sa valeur initiale :"
   ]
  },
  {
   "cell_type": "code",
   "execution_count": 17,
   "id": "71ea6ffc",
   "metadata": {},
   "outputs": [],
   "source": [
    "data.loc[data['montant']==-15000, 'montant'] = -14.39"
   ]
  },
  {
   "cell_type": "markdown",
   "id": "c3382825",
   "metadata": {},
   "source": [
    "Le jeu de données semble à présent propre, on peut avancer sur la partie analyse."
   ]
  },
  {
   "cell_type": "markdown",
   "id": "de8da6bd",
   "metadata": {},
   "source": [
    "# <a name=\"C3\"> P3C1 - Représentez la distribution empirique d'une variable</a>\n",
    "\n",
    "**1. variables qualitatives**\n",
    "\n",
    "Voici 2 représentations possibles de la distribution de la variable categ :"
   ]
  },
  {
   "cell_type": "code",
   "execution_count": 20,
   "id": "3bb59e73",
   "metadata": {},
   "outputs": [
    {
     "data": {
      "image/png": "[encoded data removed]",
      "text/plain": [
       "<Figure size 432x288 with 1 Axes>"
      ]
     },
     "metadata": {},
     "output_type": "display_data"
    },
    {
     "data": {
      "image/png": "[encoded data removed]",
      "text/plain": [
       "<Figure size 432x288 with 1 Axes>"
      ]
     },
     "metadata": {
      "needs_background": "light"
     },
     "output_type": "display_data"
    }
   ],
   "source": [
    "# Diagramme en secteurs\n",
    "data[\"categ\"].value_counts(normalize=True).plot(kind='pie')\n",
    "# Cette ligne assure que le pie chart est un cercle plutôt qu'une éllipse\n",
    "plt.axis('equal') \n",
    "plt.show() # Affiche le graphique\n",
    "\n",
    "# Diagramme en tuyaux d'orgues\n",
    "data[\"categ\"].value_counts(normalize=True).plot(kind='bar')\n",
    "plt.show()"
   ]
  },
  {
   "cell_type": "markdown",
   "id": "6ed18001",
   "metadata": {},
   "source": [
    "À gauche, vous avez le diagramme en secteurs, plus connu sous le nom de diagramme en camembert. Si les francophones y voient un camembert (fleuron de la gastronomie française), les anglophones y voient plutôt une tarte, et l'appellent donc **pie chart**. Ici, l'angle de chaque secteur est proportionnel à l'effectif de chaque modalité.\n",
    "\n",
    "À droite, c'est le diagramme en tuyaux d'orgue, appelé en anglais **bar chart**. La hauteur des tuyaux est égale à l'effectif de chaque modalité, ou bien (au choix) égale à la fréquence de chaque modalité, comme c'est le cas ici.\n",
    "\n",
    "**2. Variables quantitatives**\n",
    "\n",
    "Pour les **variables discrètes**, on les représente par un équivalent du diagramme en tuyaux d'orgue : **le diagramme en bâtons**. Cependant, avec les variables qualitatives, on pouvait placer les tuyaux un peu n'importe où sur l'axe horizontal. Mais avec une variable quantitative, on est contraint à placer précisément les bâtons sur l'axe horizontal. Comme on doit être précis, on préfère que les bâtons soient très fins. \n",
    "\n",
    "Pour représenter cela, nous allons créer une variable `quart_mois` pouvant prendre les valeurs 1, 2, 3 ou 4, et indiquant l'avancée dans le mois (1 : début, ..., 4 : fin de mois) :"
   ]
  },
  {
   "cell_type": "code",
   "execution_count": 21,
   "id": "b2cdc76f",
   "metadata": {},
   "outputs": [],
   "source": [
    "data['quart_mois'] = [int((jour-1)*4/31)+1 for jour in data[\"date_operation\"].dt.day]"
   ]
  },
  {
   "cell_type": "markdown",
   "id": "1c058696",
   "metadata": {},
   "source": [
    "On peut à présent représenter sa distribution :"
   ]
  },
  {
   "cell_type": "code",
   "execution_count": 22,
   "id": "c71a3fde",
   "metadata": {},
   "outputs": [
    {
     "data": {
      "image/png": "[encoded data removed]",
      "text/plain": [
       "<Figure size 432x288 with 1 Axes>"
      ]
     },
     "metadata": {
      "needs_background": "light"
     },
     "output_type": "display_data"
    }
   ],
   "source": [
    "# Diagramme en bâtons\n",
    "data[\"quart_mois\"].value_counts(normalize=True).plot(kind='bar',width=0.1)\n",
    "plt.show()"
   ]
  },
  {
   "cell_type": "markdown",
   "id": "6edd38a3",
   "metadata": {},
   "source": [
    "Pour les variables **continues**, on utilise l'histogramme, dans lequel les valeurs sont agrégées. Ici, comme on représente des classes (ou des intervalles, si vous préférez), on n'utilise plus de fins bâtons, mais des rectangles dont la largeur correspond à la largeur de la classe."
   ]
  },
  {
   "cell_type": "code",
   "execution_count": 24,
   "id": "2889459a",
   "metadata": {},
   "outputs": [
    {
     "data": {
      "image/png": "[encoded data removed]",
      "text/plain": [
       "<Figure size 432x288 with 1 Axes>"
      ]
     },
     "metadata": {
      "needs_background": "light"
     },
     "output_type": "display_data"
    },
    {
     "data": {
      "image/png": "[encoded data removed]",
      "text/plain": [
       "<Figure size 432x288 with 1 Axes>"
      ]
     },
     "metadata": {
      "needs_background": "light"
     },
     "output_type": "display_data"
    }
   ],
   "source": [
    "# Histogramme\n",
    "data[\"montant\"].hist(density=True)\n",
    "plt.show()\n",
    "\n",
    "# Histogramme plus beau\n",
    "data[data.montant.abs() < 100][\"montant\"].hist(density=True,bins=20)\n",
    "plt.show()"
   ]
  },
  {
   "cell_type": "markdown",
   "id": "16ae8ae5",
   "metadata": {},
   "source": [
    "# <a name=\"C4\"> P3C2 - Présentez une variable sous forme de tableau</a>\n",
    "\n",
    "Voici le code qui a généré le tableau récapitulatif de la variable quart_mois."
   ]
  },
  {
   "cell_type": "code",
   "execution_count": 25,
   "id": "3c9f5f0d",
   "metadata": {},
   "outputs": [
    {
     "data": {
      "text/html": [
       "<div>\n",
       "<style scoped>\n",
       "    .dataframe tbody tr th:only-of-type {\n",
       "        vertical-align: middle;\n",
       "    }\n",
       "\n",
       "    .dataframe tbody tr th {\n",
       "        vertical-align: top;\n",
       "    }\n",
       "\n",
       "    .dataframe thead th {\n",
       "        text-align: right;\n",
       "    }\n",
       "</style>\n",
       "<table border=\"1\" class=\"dataframe\">\n",
       "  <thead>\n",
       "    <tr style=\"text-align: right;\">\n",
       "      <th></th>\n",
       "      <th>quart_mois</th>\n",
       "      <th>n</th>\n",
       "      <th>f</th>\n",
       "    </tr>\n",
       "  </thead>\n",
       "  <tbody>\n",
       "    <tr>\n",
       "      <th>0</th>\n",
       "      <td>1</td>\n",
       "      <td>86</td>\n",
       "      <td>0.279221</td>\n",
       "    </tr>\n",
       "    <tr>\n",
       "      <th>1</th>\n",
       "      <td>2</td>\n",
       "      <td>76</td>\n",
       "      <td>0.246753</td>\n",
       "    </tr>\n",
       "    <tr>\n",
       "      <th>2</th>\n",
       "      <td>3</td>\n",
       "      <td>75</td>\n",
       "      <td>0.243506</td>\n",
       "    </tr>\n",
       "    <tr>\n",
       "      <th>3</th>\n",
       "      <td>4</td>\n",
       "      <td>71</td>\n",
       "      <td>0.230519</td>\n",
       "    </tr>\n",
       "  </tbody>\n",
       "</table>\n",
       "</div>"
      ],
      "text/plain": [
       "   quart_mois   n         f\n",
       "0           1  86  0.279221\n",
       "1           2  76  0.246753\n",
       "2           3  75  0.243506\n",
       "3           4  71  0.230519"
      ]
     },
     "metadata": {},
     "output_type": "display_data"
    }
   ],
   "source": [
    "effectifs = data[\"quart_mois\"].value_counts()\n",
    "modalites = effectifs.index # l'index de effectifs contient les modalités\n",
    "\n",
    "tab = pd.DataFrame(modalites, columns = [\"quart_mois\"]) # création du tableau à partir des modalités\n",
    "tab[\"n\"] = effectifs.values\n",
    "tab[\"f\"] = tab[\"n\"] / len(data) # len(data) renvoie la taille de l'échantillon\n",
    "\n",
    "display(tab)"
   ]
  },
  {
   "cell_type": "markdown",
   "id": "f059bfd6",
   "metadata": {},
   "source": [
    "Pour calculer les fréquences cumulées, il suffit de 2 lignes en plus. L'une trie les valeurs, et l'autre calcule la somme cumulée des fréquences :"
   ]
  },
  {
   "cell_type": "code",
   "execution_count": 26,
   "id": "c56bb86e",
   "metadata": {},
   "outputs": [
    {
     "data": {
      "text/html": [
       "<div>\n",
       "<style scoped>\n",
       "    .dataframe tbody tr th:only-of-type {\n",
       "        vertical-align: middle;\n",
       "    }\n",
       "\n",
       "    .dataframe tbody tr th {\n",
       "        vertical-align: top;\n",
       "    }\n",
       "\n",
       "    .dataframe thead th {\n",
       "        text-align: right;\n",
       "    }\n",
       "</style>\n",
       "<table border=\"1\" class=\"dataframe\">\n",
       "  <thead>\n",
       "    <tr style=\"text-align: right;\">\n",
       "      <th></th>\n",
       "      <th>quart_mois</th>\n",
       "      <th>n</th>\n",
       "      <th>f</th>\n",
       "      <th>F</th>\n",
       "    </tr>\n",
       "  </thead>\n",
       "  <tbody>\n",
       "    <tr>\n",
       "      <th>0</th>\n",
       "      <td>1</td>\n",
       "      <td>86</td>\n",
       "      <td>0.279221</td>\n",
       "      <td>0.279221</td>\n",
       "    </tr>\n",
       "    <tr>\n",
       "      <th>1</th>\n",
       "      <td>2</td>\n",
       "      <td>76</td>\n",
       "      <td>0.246753</td>\n",
       "      <td>0.525974</td>\n",
       "    </tr>\n",
       "    <tr>\n",
       "      <th>2</th>\n",
       "      <td>3</td>\n",
       "      <td>75</td>\n",
       "      <td>0.243506</td>\n",
       "      <td>0.769481</td>\n",
       "    </tr>\n",
       "    <tr>\n",
       "      <th>3</th>\n",
       "      <td>4</td>\n",
       "      <td>71</td>\n",
       "      <td>0.230519</td>\n",
       "      <td>1.000000</td>\n",
       "    </tr>\n",
       "  </tbody>\n",
       "</table>\n",
       "</div>"
      ],
      "text/plain": [
       "   quart_mois   n         f         F\n",
       "0           1  86  0.279221  0.279221\n",
       "1           2  76  0.246753  0.525974\n",
       "2           3  75  0.243506  0.769481\n",
       "3           4  71  0.230519  1.000000"
      ]
     },
     "metadata": {},
     "output_type": "display_data"
    }
   ],
   "source": [
    "tab = tab.sort_values(\"quart_mois\") # tri des valeurs de la variable X (croissant)\n",
    "tab[\"F\"] = tab[\"f\"].cumsum() # cumsum calcule la somme cumulée\n",
    "\n",
    "display(tab)"
   ]
  },
  {
   "cell_type": "markdown",
   "id": "987d846a",
   "metadata": {},
   "source": [
    "# <a name=\"C5\"> P3C4 - Découvrez les mesures de tendance centrale</a>\n",
    "\n",
    "En Python, le calcul du mode tient en une ligne. Voici un exemple avec la variable montant :"
   ]
  },
  {
   "cell_type": "code",
   "execution_count": 27,
   "id": "6dceda12",
   "metadata": {},
   "outputs": [
    {
     "data": {
      "text/plain": [
       "0   -1.6\n",
       "dtype: float64"
      ]
     },
     "execution_count": 27,
     "metadata": {},
     "output_type": "execute_result"
    }
   ],
   "source": [
    "data['montant'].mode()"
   ]
  },
  {
   "cell_type": "markdown",
   "id": "2e4a72d5",
   "metadata": {},
   "source": [
    "Voici comment calculer la moyenne des montants dépensés :"
   ]
  },
  {
   "cell_type": "code",
   "execution_count": 28,
   "id": "df07b583",
   "metadata": {},
   "outputs": [
    {
     "data": {
      "text/plain": [
       "-45.78201298701301"
      ]
     },
     "execution_count": 28,
     "metadata": {},
     "output_type": "execute_result"
    }
   ],
   "source": [
    "data['montant'].mean()"
   ]
  },
  {
   "cell_type": "markdown",
   "id": "efbffd56",
   "metadata": {},
   "source": [
    "Voilà comment calculer la médiane des montants :"
   ]
  },
  {
   "cell_type": "code",
   "execution_count": 29,
   "id": "7fe6eb9b",
   "metadata": {},
   "outputs": [
    {
     "data": {
      "text/plain": [
       "-9.6"
      ]
     },
     "execution_count": 29,
     "metadata": {},
     "output_type": "execute_result"
    }
   ],
   "source": [
    "data['montant'].median()"
   ]
  },
  {
   "cell_type": "markdown",
   "id": "7b11552d",
   "metadata": {},
   "source": [
    "Analysons un peu plus en détail notre variable montant.\n",
    "\n",
    "Les montants des opérations sont très hétérogènes : il y a des dépenses (à montant négatif) parfois grosses (les loyers, par exemple), souvent petites (courses, téléphone, etc.), et il y a des rentrées d'argent (à montant positif), peu fréquentes mais grosses. Difficile donc d'interpréter la moyenne (très sensible aux valeurs atypiques) qui vaut ici 2,87 €.\n",
    "\n",
    "On a le même problème pour la médiane qui vaut -9,6 €. Le fait qu'elle soit négative nous indique cependant qu'il y a plus de dépenses que d'entrées d'argent. Par contre, le mode nous indique que la plupart des opérations tournent autour de -1,6 €. Ici, les 3 mesures sont très éloignées les unes des autres.\n",
    "\n",
    "Pour avoir des montants d'opérations plus homogènes, il serait intéressant de calculer ces mesures pour chaque catégorie d'opération : les montants devraient être moins éparpillés au sein d'une catégorie puisque les opérations sont de même nature. Je vous laisse le faire en Python. Vous pouvez réaliser cela via une boucle `for`, qui itérera sur chacune des catégories. Ne vous arrêtez cependant pas uniquement au code, essayez d'en tirer une dimension analytique : quelle interprétation pouvez-vous faire des résultats ?"
   ]
  },
  {
   "cell_type": "code",
   "execution_count": 30,
   "id": "5718a7cb",
   "metadata": {},
   "outputs": [
    {
     "name": "stdout",
     "output_type": "stream",
     "text": [
      "--------------------\n",
      "AUTRE\n",
      "moy:\n",
      " -47.25363207547171\n",
      "med:\n",
      " -8.31\n",
      "mod:\n",
      " 0   -1.6\n",
      "dtype: float64\n"
     ]
    },
    {
     "data": {
      "image/png": "[encoded data removed]",
      "text/plain": [
       "<Figure size 432x288 with 1 Axes>"
      ]
     },
     "metadata": {
      "needs_background": "light"
     },
     "output_type": "display_data"
    },
    {
     "name": "stdout",
     "output_type": "stream",
     "text": [
      "--------------------\n",
      "TRANSPORT\n",
      "moy:\n",
      " -52.99714285714286\n",
      "med:\n",
      " -53.1\n",
      "mod:\n",
      " 0   -73.0\n",
      "dtype: float64\n"
     ]
    },
    {
     "data": {
      "image/png": "[encoded data removed]",
      "text/plain": [
       "<Figure size 432x288 with 1 Axes>"
      ]
     },
     "metadata": {
      "needs_background": "light"
     },
     "output_type": "display_data"
    },
    {
     "name": "stdout",
     "output_type": "stream",
     "text": [
      "--------------------\n",
      "FACTURE TELEPHONE\n",
      "moy:\n",
      " -12.045714285714283\n",
      "med:\n",
      " -7.02\n",
      "mod:\n",
      " 0   -7.02\n",
      "1   -6.38\n",
      "dtype: float64\n"
     ]
    },
    {
     "data": {
      "image/png": "[encoded data removed]",
      "text/plain": [
       "<Figure size 432x288 with 1 Axes>"
      ]
     },
     "metadata": {
      "needs_background": "light"
     },
     "output_type": "display_data"
    },
    {
     "name": "stdout",
     "output_type": "stream",
     "text": [
      "--------------------\n",
      "COURSES\n",
      "moy:\n",
      " -16.34128205128205\n",
      "med:\n",
      " -12.24\n",
      "mod:\n",
      " 0    -60.16\n",
      "1    -42.45\n",
      "2    -42.42\n",
      "3    -33.55\n",
      "4    -32.67\n",
      "5    -29.18\n",
      "6    -28.11\n",
      "7    -27.68\n",
      "8    -26.58\n",
      "9    -26.19\n",
      "10   -23.43\n",
      "11   -22.59\n",
      "12   -21.73\n",
      "13   -20.59\n",
      "14   -18.45\n",
      "15   -17.16\n",
      "16   -13.59\n",
      "17   -12.96\n",
      "18   -12.49\n",
      "19   -12.24\n",
      "20   -10.91\n",
      "21   -10.36\n",
      "22    -9.88\n",
      "23    -9.60\n",
      "24    -9.31\n",
      "25    -9.11\n",
      "26    -6.89\n",
      "27    -6.80\n",
      "28    -6.60\n",
      "29    -5.88\n",
      "30    -4.63\n",
      "31    -4.41\n",
      "32    -4.39\n",
      "33    -3.48\n",
      "34    -2.93\n",
      "35    -2.56\n",
      "36    -2.51\n",
      "37    -1.90\n",
      "38    -0.94\n",
      "dtype: float64\n"
     ]
    },
    {
     "data": {
      "image/png": "[encoded data removed]",
      "text/plain": [
       "<Figure size 432x288 with 1 Axes>"
      ]
     },
     "metadata": {
      "needs_background": "light"
     },
     "output_type": "display_data"
    },
    {
     "name": "stdout",
     "output_type": "stream",
     "text": [
      "--------------------\n",
      "COTISATION BANCAIRE\n",
      "moy:\n",
      " -1.8857142857142857\n",
      "med:\n",
      " -1.92\n",
      "mod:\n",
      " 0   -1.92\n",
      "dtype: float64\n"
     ]
    },
    {
     "data": {
      "image/png": "[encoded data removed]",
      "text/plain": [
       "<Figure size 432x288 with 1 Axes>"
      ]
     },
     "metadata": {
      "needs_background": "light"
     },
     "output_type": "display_data"
    },
    {
     "name": "stdout",
     "output_type": "stream",
     "text": [
      "--------------------\n",
      "RESTAURANT\n",
      "moy:\n",
      " -10.332500000000001\n",
      "med:\n",
      " -10.1\n",
      "mod:\n",
      " 0   -9.2\n",
      "dtype: float64\n"
     ]
    },
    {
     "data": {
      "image/png": "[encoded data removed]",
      "text/plain": [
       "<Figure size 432x288 with 1 Axes>"
      ]
     },
     "metadata": {
      "needs_background": "light"
     },
     "output_type": "display_data"
    },
    {
     "name": "stdout",
     "output_type": "stream",
     "text": [
      "--------------------\n",
      "LOYER\n",
      "moy:\n",
      " -345.0\n",
      "med:\n",
      " -345.0\n",
      "mod:\n",
      " 0   -345.0\n",
      "dtype: float64\n"
     ]
    },
    {
     "data": {
      "image/png": "[encoded data removed]",
      "text/plain": [
       "<Figure size 432x288 with 1 Axes>"
      ]
     },
     "metadata": {
      "needs_background": "light"
     },
     "output_type": "display_data"
    }
   ],
   "source": [
    "for cat in data[\"categ\"].unique():\n",
    "    subset = data.loc[data.categ == cat, :] # Création du sous-échantillon\n",
    "    print(\"-\"*20)\n",
    "    print(cat)\n",
    "    print(\"moy:\\n\",subset['montant'].mean())\n",
    "    print(\"med:\\n\",subset['montant'].median())\n",
    "    print(\"mod:\\n\",subset['montant'].mode())\n",
    "    subset[\"montant\"].hist() # Crée l'histogramme\n",
    "    plt.show() # Affiche l'histogramme"
   ]
  },
  {
   "cell_type": "markdown",
   "id": "94a71b42",
   "metadata": {},
   "source": [
    "Pour chaque catégorie, on crée un sous-échantillon (subset) qui contient uniquement les opérations de la catégorie en cours. On affiche en lignes 5 à 7 les 3 mesures, et on affiche également l'histogramme pour mettre en perspectives les 3 mesures. A vous d'interpréter vos résultats !"
   ]
  },
  {
   "cell_type": "markdown",
   "id": "431cafe7",
   "metadata": {},
   "source": [
    "# <a name=\"C6\">P3C5 - Comprenez les mesures de dispersion</a>\n",
    "\n",
    "Pour calculer la variance en Python, cela se fait très facilement ! Il suffit d'utiliser la méthode .var() sur la variable considérée. Par exemple avec la variable montant :"
   ]
  },
  {
   "cell_type": "code",
   "execution_count": 28,
   "id": "b062534b",
   "metadata": {},
   "outputs": [
    {
     "data": {
      "text/plain": [
       "31007.638040630973"
      ]
     },
     "execution_count": 28,
     "metadata": {},
     "output_type": "execute_result"
    }
   ],
   "source": [
    "data['montant'].var()"
   ]
  },
  {
   "cell_type": "markdown",
   "id": "e1e1d37e",
   "metadata": {},
   "source": [
    "Aussi, vous trouverez souvent une version \"corrigée\" de la variance empirique, que l'on qualifie de non biaisée. En effet, quand on se plonge dans les calculs, on s'aperçoit que la variance empirique donne des valeurs qui (en moyenne) sont inférieures à la variance de la variable aléatoire. Il s'agit de la notion de biais d'un estimateur. Un estimateur sans biais est meilleur qu'un estimateur biaisé.\n",
    "\n",
    "Pour corriger ce biais, on a créé la variance empirique corrigée, ou variance empirique sans biais. Voici comment calculer la variance empirique corrigée en Python :"
   ]
  },
  {
   "cell_type": "code",
   "execution_count": 29,
   "id": "c481efd4",
   "metadata": {},
   "outputs": [
    {
     "data": {
      "text/plain": [
       "30906.963891148403"
      ]
     },
     "execution_count": 29,
     "metadata": {},
     "output_type": "execute_result"
    }
   ],
   "source": [
    "data['montant'].var(ddof=0)"
   ]
  },
  {
   "cell_type": "markdown",
   "id": "0955afa2",
   "metadata": {},
   "source": [
    "Voilà comment calculer l'écart-type de la variable montant :"
   ]
  },
  {
   "cell_type": "code",
   "execution_count": 30,
   "id": "e1985368",
   "metadata": {},
   "outputs": [
    {
     "data": {
      "text/plain": [
       "176.08985785851203"
      ]
     },
     "execution_count": 30,
     "metadata": {},
     "output_type": "execute_result"
    }
   ],
   "source": [
    "data['montant'].std()"
   ]
  },
  {
   "cell_type": "markdown",
   "id": "6c9b3eb4",
   "metadata": {},
   "source": [
    "Mais lorsque vous faites un trajet, un écart-type de 6,55 minutes sur un trajet de 1 h (1h en moyenne), ce n'est pas la même chose qu'un écart-type de 6,55 minutes sur un trajet de 24 h (24h en moyenne) ! Pour remédier à cela, on a donc créé le coefficient de variation qui est l'écart-type empirique divisé par la moyenne.\n",
    "\n",
    "Le calcul de ce dernier en Python est tout aussi simple :"
   ]
  },
  {
   "cell_type": "code",
   "execution_count": 31,
   "id": "c97b9cb3",
   "metadata": {},
   "outputs": [
    {
     "data": {
      "text/plain": [
       "175.80376529286397"
      ]
     },
     "execution_count": 31,
     "metadata": {},
     "output_type": "execute_result"
    }
   ],
   "source": [
    "data['montant'].std(ddof=0)"
   ]
  },
  {
   "cell_type": "markdown",
   "id": "2f673b47",
   "metadata": {},
   "source": [
    "Nous pouvons facilement construire une boîte à moustaches avec Python :"
   ]
  },
  {
   "cell_type": "code",
   "execution_count": 32,
   "id": "8a85e0c7",
   "metadata": {},
   "outputs": [
    {
     "data": {
      "image/png": "[encoded data removed]",
      "text/plain": [
       "<Figure size 432x288 with 1 Axes>"
      ]
     },
     "metadata": {
      "needs_background": "light"
     },
     "output_type": "display_data"
    }
   ],
   "source": [
    "data.boxplot(column=\"montant\", vert=False)\n",
    "plt.show()"
   ]
  },
  {
   "cell_type": "markdown",
   "id": "7f380d85",
   "metadata": {},
   "source": [
    "À votre tour ! Reprenez le code développé lors du chapitre précédent, en y ajoutant pour chaque catégorie :\n",
    "- l'écart-type ;\n",
    "- la variance ;\n",
    "- un histogramme ;\n",
    "- une boîte à moustache des montants."
   ]
  },
  {
   "cell_type": "code",
   "execution_count": 31,
   "id": "9220f681",
   "metadata": {},
   "outputs": [
    {
     "name": "stdout",
     "output_type": "stream",
     "text": [
      "--------------------\n",
      "AUTRE\n",
      "moy:\n",
      " -47.25363207547171\n",
      "med:\n",
      " -8.31\n",
      "mod:\n",
      " 0   -1.6\n",
      "dtype: float64\n",
      "var:\n",
      " 1100037.8174259588\n",
      "ect:\n",
      " 1048.8268767656361\n"
     ]
    },
    {
     "data": {
      "image/png": "[encoded data removed]",
      "text/plain": [
       "<Figure size 432x288 with 1 Axes>"
      ]
     },
     "metadata": {
      "needs_background": "light"
     },
     "output_type": "display_data"
    },
    {
     "data": {
      "image/png": "[encoded data removed]",
      "text/plain": [
       "<Figure size 432x288 with 1 Axes>"
      ]
     },
     "metadata": {
      "needs_background": "light"
     },
     "output_type": "display_data"
    },
    {
     "name": "stdout",
     "output_type": "stream",
     "text": [
      "--------------------\n",
      "TRANSPORT\n",
      "moy:\n",
      " -52.99714285714286\n",
      "med:\n",
      " -53.1\n",
      "mod:\n",
      " 0   -73.0\n",
      "dtype: float64\n",
      "var:\n",
      " 2205.016868027212\n",
      "ect:\n",
      " 46.95760713694014\n"
     ]
    },
    {
     "data": {
      "image/png": "[encoded data removed]",
      "text/plain": [
       "<Figure size 432x288 with 1 Axes>"
      ]
     },
     "metadata": {
      "needs_background": "light"
     },
     "output_type": "display_data"
    },
    {
     "data": {
      "image/png": "[encoded data removed]",
      "text/plain": [
       "<Figure size 432x288 with 1 Axes>"
      ]
     },
     "metadata": {
      "needs_background": "light"
     },
     "output_type": "display_data"
    },
    {
     "name": "stdout",
     "output_type": "stream",
     "text": [
      "--------------------\n",
      "FACTURE TELEPHONE\n",
      "moy:\n",
      " -12.045714285714283\n",
      "med:\n",
      " -7.02\n",
      "mod:\n",
      " 0   -7.02\n",
      "1   -6.38\n",
      "dtype: float64\n",
      "var:\n",
      " 105.01905306122445\n",
      "ect:\n",
      " 10.247880417980317\n"
     ]
    },
    {
     "data": {
      "image/png": "[encoded data removed]",
      "text/plain": [
       "<Figure size 432x288 with 1 Axes>"
      ]
     },
     "metadata": {
      "needs_background": "light"
     },
     "output_type": "display_data"
    },
    {
     "data": {
      "image/png": "[encoded data removed]",
      "text/plain": [
       "<Figure size 432x288 with 1 Axes>"
      ]
     },
     "metadata": {
      "needs_background": "light"
     },
     "output_type": "display_data"
    },
    {
     "name": "stdout",
     "output_type": "stream",
     "text": [
      "--------------------\n",
      "COURSES\n",
      "moy:\n",
      " -16.34128205128205\n",
      "med:\n",
      " -12.24\n",
      "mod:\n",
      " 0    -60.16\n",
      "1    -42.45\n",
      "2    -42.42\n",
      "3    -33.55\n",
      "4    -32.67\n",
      "5    -29.18\n",
      "6    -28.11\n",
      "7    -27.68\n",
      "8    -26.58\n",
      "9    -26.19\n",
      "10   -23.43\n",
      "11   -22.59\n",
      "12   -21.73\n",
      "13   -20.59\n",
      "14   -18.45\n",
      "15   -17.16\n",
      "16   -13.59\n",
      "17   -12.96\n",
      "18   -12.49\n",
      "19   -12.24\n",
      "20   -10.91\n",
      "21   -10.36\n",
      "22    -9.88\n",
      "23    -9.60\n",
      "24    -9.31\n",
      "25    -9.11\n",
      "26    -6.89\n",
      "27    -6.80\n",
      "28    -6.60\n",
      "29    -5.88\n",
      "30    -4.63\n",
      "31    -4.41\n",
      "32    -4.39\n",
      "33    -3.48\n",
      "34    -2.93\n",
      "35    -2.56\n",
      "36    -2.51\n",
      "37    -1.90\n",
      "38    -0.94\n",
      "dtype: float64\n",
      "var:\n",
      " 177.02535476660088\n",
      "ect:\n",
      " 13.3050875520081\n"
     ]
    },
    {
     "data": {
      "image/png": "[encoded data removed]",
      "text/plain": [
       "<Figure size 432x288 with 1 Axes>"
      ]
     },
     "metadata": {
      "needs_background": "light"
     },
     "output_type": "display_data"
    },
    {
     "data": {
      "image/png": "[encoded data removed]",
      "text/plain": [
       "<Figure size 432x288 with 1 Axes>"
      ]
     },
     "metadata": {
      "needs_background": "light"
     },
     "output_type": "display_data"
    },
    {
     "name": "stdout",
     "output_type": "stream",
     "text": [
      "--------------------\n",
      "COTISATION BANCAIRE\n",
      "moy:\n",
      " -1.8857142857142857\n",
      "med:\n",
      " -1.92\n",
      "mod:\n",
      " 0   -1.92\n",
      "dtype: float64\n",
      "var:\n",
      " 0.0015673469387755044\n",
      "ect:\n",
      " 0.03958973274443141\n"
     ]
    },
    {
     "data": {
      "image/png": "[encoded data removed]",
      "text/plain": [
       "<Figure size 432x288 with 1 Axes>"
      ]
     },
     "metadata": {
      "needs_background": "light"
     },
     "output_type": "display_data"
    },
    {
     "data": {
      "image/png": "[encoded data removed]",
      "text/plain": [
       "<Figure size 432x288 with 1 Axes>"
      ]
     },
     "metadata": {
      "needs_background": "light"
     },
     "output_type": "display_data"
    },
    {
     "name": "stdout",
     "output_type": "stream",
     "text": [
      "--------------------\n",
      "RESTAURANT\n",
      "moy:\n",
      " -10.332500000000001\n",
      "med:\n",
      " -10.1\n",
      "mod:\n",
      " 0   -9.2\n",
      "dtype: float64\n",
      "var:\n",
      " 2.853193750000001\n",
      "ect:\n",
      " 1.689139943876765\n"
     ]
    },
    {
     "data": {
      "image/png": "[encoded data removed]",
      "text/plain": [
       "<Figure size 432x288 with 1 Axes>"
      ]
     },
     "metadata": {
      "needs_background": "light"
     },
     "output_type": "display_data"
    },
    {
     "data": {
      "image/png": "[encoded data removed]",
      "text/plain": [
       "<Figure size 432x288 with 1 Axes>"
      ]
     },
     "metadata": {
      "needs_background": "light"
     },
     "output_type": "display_data"
    },
    {
     "name": "stdout",
     "output_type": "stream",
     "text": [
      "--------------------\n",
      "LOYER\n",
      "moy:\n",
      " -345.0\n",
      "med:\n",
      " -345.0\n",
      "mod:\n",
      " 0   -345.0\n",
      "dtype: float64\n",
      "var:\n",
      " 0.0\n",
      "ect:\n",
      " 0.0\n"
     ]
    },
    {
     "data": {
      "image/png": "[encoded data removed]",
      "text/plain": [
       "<Figure size 432x288 with 1 Axes>"
      ]
     },
     "metadata": {
      "needs_background": "light"
     },
     "output_type": "display_data"
    },
    {
     "data": {
      "image/png": "[encoded data removed]",
      "text/plain": [
       "<Figure size 432x288 with 1 Axes>"
      ]
     },
     "metadata": {
      "needs_background": "light"
     },
     "output_type": "display_data"
    }
   ],
   "source": [
    "for cat in data[\"categ\"].unique():\n",
    "    subset = data[data.categ == cat]\n",
    "    print(\"-\"*20)\n",
    "    print(cat)\n",
    "    print(\"moy:\\n\",subset['montant'].mean())\n",
    "    print(\"med:\\n\",subset['montant'].median())\n",
    "    print(\"mod:\\n\",subset['montant'].mode())\n",
    "    print(\"var:\\n\",subset['montant'].var(ddof=0))\n",
    "    print(\"ect:\\n\",subset['montant'].std(ddof=0))\n",
    "    subset[\"montant\"].hist()\n",
    "    plt.show()\n",
    "    subset.boxplot(column=\"montant\", vert=False)\n",
    "    plt.show()"
   ]
  },
  {
   "cell_type": "markdown",
   "id": "c9865c47",
   "metadata": {},
   "source": [
    " La variance du montant des opérations de la catégorie LOYER est nulle, ce qui signifie que le montant du loyer est toujours resté fixe."
   ]
  },
  {
   "cell_type": "markdown",
   "id": "c7dd32cc",
   "metadata": {},
   "source": [
    "# <a name=\"C7\"> P3C6 - Appréhendez les mesures de forme</a>\n",
    "\n",
    "Le calcul du skewness se fait très facilement en Python :"
   ]
  },
  {
   "cell_type": "code",
   "execution_count": 34,
   "id": "79a640d7",
   "metadata": {},
   "outputs": [
    {
     "data": {
      "text/plain": [
       "3.3618450105098843"
      ]
     },
     "execution_count": 34,
     "metadata": {},
     "output_type": "execute_result"
    }
   ],
   "source": [
    "data['montant'].skew()"
   ]
  },
  {
   "cell_type": "markdown",
   "id": "8dfc83f9",
   "metadata": {},
   "source": [
    "Voilà comment calculer le kurtosis de notre variable montant :"
   ]
  },
  {
   "cell_type": "code",
   "execution_count": 35,
   "id": "3092df43",
   "metadata": {},
   "outputs": [
    {
     "data": {
      "text/plain": [
       "17.2719048282677"
      ]
     },
     "execution_count": 35,
     "metadata": {},
     "output_type": "execute_result"
    }
   ],
   "source": [
    "data['montant'].kurtosis()"
   ]
  },
  {
   "cell_type": "markdown",
   "id": "9f011480",
   "metadata": {},
   "source": [
    "Poussez encore votre analyse un peu plus loin ! Ajoutez le calcul du Skewness empirique et le Kurtosis empirique pour chaque catégorie."
   ]
  },
  {
   "cell_type": "code",
   "execution_count": 36,
   "id": "0e4a029e",
   "metadata": {},
   "outputs": [
    {
     "name": "stdout",
     "output_type": "stream",
     "text": [
      "--------------------\n",
      "AUTRE\n",
      "moy:\n",
      " 23.433207547169832\n",
      "med:\n",
      " -8.31\n",
      "mod:\n",
      " 0   -1.6\n",
      "dtype: float64\n",
      "var:\n",
      " 40401.82999254187\n",
      "ect:\n",
      " 201.00206464746046\n",
      "skw:\n",
      " 3.1215325222336423\n",
      "kur:\n",
      " 12.716537970826295\n"
     ]
    },
    {
     "data": {
      "image/png": "[encoded data removed]",
      "text/plain": [
       "<Figure size 432x288 with 1 Axes>"
      ]
     },
     "metadata": {
      "needs_background": "light"
     },
     "output_type": "display_data"
    },
    {
     "data": {
      "image/png": "[encoded data removed]",
      "text/plain": [
       "<Figure size 432x288 with 1 Axes>"
      ]
     },
     "metadata": {
      "needs_background": "light"
     },
     "output_type": "display_data"
    },
    {
     "name": "stdout",
     "output_type": "stream",
     "text": [
      "--------------------\n",
      "TRANSPORT\n",
      "moy:\n",
      " -52.99714285714286\n",
      "med:\n",
      " -53.1\n",
      "mod:\n",
      " 0   -73.0\n",
      "dtype: float64\n",
      "var:\n",
      " 2205.016868027212\n",
      "ect:\n",
      " 46.95760713694014\n",
      "skw:\n",
      " -1.248265076217821\n",
      "kur:\n",
      " 2.1922705326917495\n"
     ]
    },
    {
     "data": {
      "image/png": "[encoded data removed]",
      "text/plain": [
       "<Figure size 432x288 with 1 Axes>"
      ]
     },
     "metadata": {
      "needs_background": "light"
     },
     "output_type": "display_data"
    },
    {
     "data": {
      "image/png": "[encoded data removed]",
      "text/plain": [
       "<Figure size 432x288 with 1 Axes>"
      ]
     },
     "metadata": {
      "needs_background": "light"
     },
     "output_type": "display_data"
    },
    {
     "name": "stdout",
     "output_type": "stream",
     "text": [
      "--------------------\n",
      "FACTURE TELEPHONE\n",
      "moy:\n",
      " -12.045714285714283\n",
      "med:\n",
      " -7.02\n",
      "mod:\n",
      " 0   -7.02\n",
      "1   -6.38\n",
      "dtype: float64\n",
      "var:\n",
      " 105.01905306122445\n",
      "ect:\n",
      " 10.247880417980317\n",
      "skw:\n",
      " -2.3876514564281526\n",
      "kur:\n",
      " 5.798563367885492\n"
     ]
    },
    {
     "data": {
      "image/png": "[encoded data removed]",
      "text/plain": [
       "<Figure size 432x288 with 1 Axes>"
      ]
     },
     "metadata": {
      "needs_background": "light"
     },
     "output_type": "display_data"
    },
    {
     "data": {
      "image/png": "[encoded data removed]",
      "text/plain": [
       "<Figure size 432x288 with 1 Axes>"
      ]
     },
     "metadata": {
      "needs_background": "light"
     },
     "output_type": "display_data"
    },
    {
     "name": "stdout",
     "output_type": "stream",
     "text": [
      "--------------------\n",
      "COURSES\n",
      "moy:\n",
      " -16.34128205128205\n",
      "med:\n",
      " -12.24\n",
      "mod:\n",
      " 0    -60.16\n",
      "1    -42.45\n",
      "2    -42.42\n",
      "3    -33.55\n",
      "4    -32.67\n",
      "5    -29.18\n",
      "6    -28.11\n",
      "7    -27.68\n",
      "8    -26.58\n",
      "9    -26.19\n",
      "10   -23.43\n",
      "11   -22.59\n",
      "12   -21.73\n",
      "13   -20.59\n",
      "14   -18.45\n",
      "15   -17.16\n",
      "16   -13.59\n",
      "17   -12.96\n",
      "18   -12.49\n",
      "19   -12.24\n",
      "20   -10.91\n",
      "21   -10.36\n",
      "22    -9.88\n",
      "23    -9.60\n",
      "24    -9.31\n",
      "25    -9.11\n",
      "26    -6.89\n",
      "27    -6.80\n",
      "28    -6.60\n",
      "29    -5.88\n",
      "30    -4.63\n",
      "31    -4.41\n",
      "32    -4.39\n",
      "33    -3.48\n",
      "34    -2.93\n",
      "35    -2.56\n",
      "36    -2.51\n",
      "37    -1.90\n",
      "38    -0.94\n",
      "dtype: float64\n",
      "var:\n",
      " 177.02535476660088\n",
      "ect:\n",
      " 13.3050875520081\n",
      "skw:\n",
      " -1.2467488306456982\n",
      "kur:\n",
      " 1.6047304940874998\n"
     ]
    },
    {
     "data": {
      "image/png": "[encoded data removed]",
      "text/plain": [
       "<Figure size 432x288 with 1 Axes>"
      ]
     },
     "metadata": {
      "needs_background": "light"
     },
     "output_type": "display_data"
    },
    {
     "data": {
      "image/png": "[encoded data removed]",
      "text/plain": [
       "<Figure size 432x288 with 1 Axes>"
      ]
     },
     "metadata": {
      "needs_background": "light"
     },
     "output_type": "display_data"
    },
    {
     "name": "stdout",
     "output_type": "stream",
     "text": [
      "--------------------\n",
      "COTISATION BANCAIRE\n",
      "moy:\n",
      " -1.8857142857142857\n",
      "med:\n",
      " -1.92\n",
      "mod:\n",
      " 0   -1.92\n",
      "dtype: float64\n",
      "var:\n",
      " 0.0015673469387755044\n",
      "ect:\n",
      " 0.03958973274443141\n",
      "skw:\n",
      " 0.37416573867739106\n",
      "kur:\n",
      " -2.800000000000003\n"
     ]
    },
    {
     "data": {
      "image/png": "[encoded data removed]",
      "text/plain": [
       "<Figure size 432x288 with 1 Axes>"
      ]
     },
     "metadata": {
      "needs_background": "light"
     },
     "output_type": "display_data"
    },
    {
     "data": {
      "image/png": "[encoded data removed]",
      "text/plain": [
       "<Figure size 432x288 with 1 Axes>"
      ]
     },
     "metadata": {
      "needs_background": "light"
     },
     "output_type": "display_data"
    },
    {
     "name": "stdout",
     "output_type": "stream",
     "text": [
      "--------------------\n",
      "RESTAURANT\n",
      "moy:\n",
      " -10.332500000000001\n",
      "med:\n",
      " -10.1\n",
      "mod:\n",
      " 0   -9.2\n",
      "dtype: float64\n",
      "var:\n",
      " 2.853193750000001\n",
      "ect:\n",
      " 1.689139943876765\n",
      "skw:\n",
      " -0.8883503487158837\n",
      "kur:\n",
      " 0.5988855591691937\n"
     ]
    },
    {
     "data": {
      "image/png": "[encoded data removed]",
      "text/plain": [
       "<Figure size 432x288 with 1 Axes>"
      ]
     },
     "metadata": {
      "needs_background": "light"
     },
     "output_type": "display_data"
    },
    {
     "data": {
      "image/png": "[encoded data removed]",
      "text/plain": [
       "<Figure size 432x288 with 1 Axes>"
      ]
     },
     "metadata": {
      "needs_background": "light"
     },
     "output_type": "display_data"
    },
    {
     "name": "stdout",
     "output_type": "stream",
     "text": [
      "--------------------\n",
      "LOYER\n",
      "moy:\n",
      " -345.0\n",
      "med:\n",
      " -345.0\n",
      "mod:\n",
      " 0   -345.0\n",
      "dtype: float64\n",
      "var:\n",
      " 0.0\n",
      "ect:\n",
      " 0.0\n",
      "skw:\n",
      " 0\n",
      "kur:\n",
      " 0\n"
     ]
    },
    {
     "data": {
      "image/png": "[encoded data removed]",
      "text/plain": [
       "<Figure size 432x288 with 1 Axes>"
      ]
     },
     "metadata": {
      "needs_background": "light"
     },
     "output_type": "display_data"
    },
    {
     "data": {
      "image/png": "[encoded data removed]",
      "text/plain": [
       "<Figure size 432x288 with 1 Axes>"
      ]
     },
     "metadata": {
      "needs_background": "light"
     },
     "output_type": "display_data"
    }
   ],
   "source": [
    "for cat in data[\"categ\"].unique():\n",
    "    subset = data[data.categ == cat]\n",
    "    print(\"-\"*20)\n",
    "    print(cat)\n",
    "    print(\"moy:\\n\",subset['montant'].mean())\n",
    "    print(\"med:\\n\",subset['montant'].median())\n",
    "    print(\"mod:\\n\",subset['montant'].mode())\n",
    "    print(\"var:\\n\",subset['montant'].var(ddof=0))\n",
    "    print(\"ect:\\n\",subset['montant'].std(ddof=0))\n",
    "    print(\"skw:\\n\",subset['montant'].skew())\n",
    "    print(\"kur:\\n\",subset['montant'].kurtosis())\n",
    "    subset[\"montant\"].hist()\n",
    "    plt.show()\n",
    "    subset.boxplot(column=\"montant\", vert=False)\n",
    "    plt.show()"
   ]
  },
  {
   "cell_type": "markdown",
   "id": "ca194928",
   "metadata": {},
   "source": [
    "Pour toutes les opérations dont la catégorie regroupe principalement des dépenses (téléphone, courses, etc.), il est assez normal que le skewness empirique soit négatif. La distribution des dépenses s'étale vers la gauche, car on fait fréquemment des petites dépenses, et moins souvent des dépenses qui parfois peuvent être très importantes (donc très à gauche)"
   ]
  },
  {
   "cell_type": "markdown",
   "id": "0cf5d085",
   "metadata": {},
   "source": [
    "# <a name=\"C8\">P3C7 - Familiarisez-vous avec les mesures de concentration</a>\n",
    "\n",
    "Voici le code permettant d'afficher la courbe de Lorenz :"
   ]
  },
  {
   "cell_type": "code",
   "execution_count": 32,
   "id": "52ae6aab",
   "metadata": {},
   "outputs": [
    {
     "data": {
      "image/png": "[encoded data removed]",
      "text/plain": [
       "<Figure size 432x288 with 1 Axes>"
      ]
     },
     "metadata": {
      "needs_background": "light"
     },
     "output_type": "display_data"
    }
   ],
   "source": [
    "depenses = data[data['montant'] < 0]\n",
    "dep = -depenses['montant'].values\n",
    "n = len(dep)\n",
    "lorenz = np.cumsum(np.sort(dep)) / dep.sum()\n",
    "lorenz = np.append([0],lorenz) # La courbe de Lorenz commence à 0\n",
    "\n",
    "xaxis = np.linspace(0-1/n,1+1/n,len(lorenz)) #Il y a un segment de taille n pour chaque individu, plus 1 segment supplémentaire d'ordonnée 0. Le premier segment commence à 0-1/n, et le dernier termine à 1+1/n.\n",
    "plt.plot(xaxis,lorenz,drawstyle='steps-post')\n",
    "plt.plot([0,1], [0,1]) #tracer la bisséctrice\n",
    "plt.show()"
   ]
  },
  {
   "cell_type": "markdown",
   "id": "6ce53acd",
   "metadata": {},
   "source": [
    "On y sélectionne tout d'abord le sous-échantillon de travail que l'on appelle  depenses  . Comme évoqué plus haut, il faut trier les individus dans l'ordre croissant des valeurs de la variable ; nous le faisons ici grâce à `np.sort(dep)`, car  dep  contient les observations de la variable montant.\n",
    "\n",
    "Ensuite, nous calculons la somme cumulée grâce à  `np.cumsum()`. Pour normaliser et faire en sorte que le haut de la courbe soit à 1, on divise le tout par  `dep.sum()`. La variable  lorenz  contient les ordonnées des points, mais il nous faut maintenant leurs abscisses : celles-ci s'étendent de 0 à 1 (comme évoqué précédemment) à intervalle réguliers. C'est ce que produit  `np.linspace(0-1/n,1+1/n,len(lorenz))`"
   ]
  },
  {
   "cell_type": "markdown",
   "id": "8c1e4a63",
   "metadata": {},
   "source": [
    "Le calcul de l'indice de Gini reprend directement les variables issues du traçage de la courbe de Lorenz mais est un peu plus complexe à comprendre, je laisse les plus courageux s'y plonger ;)"
   ]
  },
  {
   "cell_type": "code",
   "execution_count": 33,
   "id": "6860d8a5",
   "metadata": {},
   "outputs": [
    {
     "data": {
      "text/plain": [
       "0.8937793499214055"
      ]
     },
     "execution_count": 33,
     "metadata": {},
     "output_type": "execute_result"
    }
   ],
   "source": [
    "AUC = (lorenz.sum() -lorenz[-1]/2 -lorenz[0]/2)/n # Surface sous la courbe de Lorenz. Le premier segment (lorenz[0]) est à moitié en dessous de 0, on le coupe donc en 2, on fait de même pour le dernier segment lorenz[-1] qui est à moitié au dessus de 1.\n",
    "S = 0.5 - AUC # surface entre la première bissectrice et le courbe de Lorenz\n",
    "gini = 2*S\n",
    "gini"
   ]
  },
  {
   "cell_type": "markdown",
   "id": "6647ffd1",
   "metadata": {},
   "source": [
    "# <a name=\"C9\"> P4C3 - Analysez la corrélation entre deux variables quantitatives</a>"
   ]
  },
  {
   "cell_type": "markdown",
   "id": "9bd685d8",
   "metadata": {},
   "source": [
    "Posons-nous la question suivante :\n",
    "\n",
    "    Êtes-vous moins dépensier lorsque vous avez peu d'argent sur votre compte ?\n",
    "\n",
    "Vous l'aurez deviné, les 2 variables à étudier sont : montant et solde_avt_operation. Rechercher une corrélation entre ces variables revient à dire : \"Sachant que le solde de votre compte est petit, peut-on s'attendre à ce que le montant de l'opération soit lui aussi petit ?\" (ou l'inverse).\n",
    "\n",
    "Je vous invite donc à tracer le diagramme de dispersion entre le solde avant opération et le montant des dépenses, et analyser ce qui en ressort."
   ]
  },
  {
   "cell_type": "code",
   "execution_count": 35,
   "id": "150687aa",
   "metadata": {},
   "outputs": [
    {
     "data": {
      "image/png": "[encoded data removed]",
      "text/plain": [
       "<Figure size 432x288 with 1 Axes>"
      ]
     },
     "metadata": {
      "needs_background": "light"
     },
     "output_type": "display_data"
    }
   ],
   "source": [
    "depenses = data[data.montant < 0]\n",
    "plt.plot(depenses[\"solde_avt_ope\"],-depenses[\"montant\"],'o')\n",
    "plt.xlabel(\"solde avant opération\")\n",
    "plt.ylabel(\"montant de dépense\")\n",
    "plt.show()"
   ]
  },
  {
   "cell_type": "markdown",
   "id": "dd4fb999",
   "metadata": {},
   "source": [
    "A priori sur ce diagramme de dispersion, il ne semble pas que quand le solde est petit, les montants soient particulièrement petits. Il semble ne pas y avoir de corrélation. Mais vous en trouverez peut-être une dans vos propres relevés !"
   ]
  },
  {
   "cell_type": "markdown",
   "id": "1f333fe4",
   "metadata": {},
   "source": [
    "Pour avoir une représentation plus efficace que le scatter plot, il est possible d'agréger la variable X en abscisse (axe horizontal) en différentes classes. Cela équivaut à \"découper\" au couteau le graphique précédent en tranches verticales. On représente ensuite pour chaque tranche une boîte à moustaches calculée à partir de tous les points présents dans la tranche. Voici donc le nouveau graphique obtenu :"
   ]
  },
  {
   "cell_type": "code",
   "execution_count": 43,
   "id": "0ccfbd56",
   "metadata": {},
   "outputs": [],
   "source": [
    "taille_classe = 500 # taille des classes pour la discrétisation\n",
    "\n",
    "groupes = [] # va recevoir les données agrégées à afficher\n",
    "\n",
    "# on calcule des tranches allant de 0 au solde maximum par paliers de taille taille_classe\n",
    "tranches = np.arange(0, max(depenses[\"solde_avt_ope\"]), taille_classe)\n",
    "tranches += taille_classe/2 # on décale les tranches d'une demi taille de classe\n",
    "indices = np.digitize(depenses[\"solde_avt_ope\"], tranches) # associe chaque solde à son numéro de classer"
   ]
  },
  {
   "cell_type": "code",
   "execution_count": 44,
   "id": "11359857",
   "metadata": {},
   "outputs": [
    {
     "name": "stdout",
     "output_type": "stream",
     "text": [
      "Series([], Name: montant, dtype: float64)\n",
      "Series([], Name: montant, dtype: float64)\n",
      "Series([], Name: montant, dtype: float64)\n",
      "0     1.44\n",
      "1    24.00\n",
      "2    73.00\n",
      "Name: montant, dtype: float64\n",
      "5       14.39\n",
      "6       15.20\n",
      "7       12.00\n",
      "8        7.02\n",
      "9        6.80\n",
      "10       1.84\n",
      "294     40.00\n",
      "295      2.93\n",
      "296     10.36\n",
      "297    320.00\n",
      "298      1.20\n",
      "299      1.76\n",
      "300     36.00\n",
      "Name: montant, dtype: float64\n",
      "168     12.48\n",
      "169    190.80\n",
      "170     13.60\n",
      "171      6.49\n",
      "172      4.80\n",
      "173     20.80\n",
      "174      9.20\n",
      "175      4.80\n",
      "176      9.60\n",
      "177     32.00\n",
      "178      4.88\n",
      "179     60.16\n",
      "289      8.52\n",
      "290      7.12\n",
      "291     23.33\n",
      "292      9.31\n",
      "293     12.00\n",
      "302     67.68\n",
      "303     10.64\n",
      "304      4.80\n",
      "305      1.92\n",
      "306     10.00\n",
      "307     13.58\n",
      "Name: montant, dtype: float64\n",
      "12      24.00\n",
      "14      84.40\n",
      "15      12.42\n",
      "16       6.00\n",
      "17      20.64\n",
      "        ...  \n",
      "284      2.56\n",
      "285     10.45\n",
      "286      4.00\n",
      "287      5.60\n",
      "288    593.60\n",
      "Name: montant, Length: 66, dtype: float64\n",
      "22       7.56\n",
      "36       1.70\n",
      "37      13.60\n",
      "38       7.20\n",
      "39      10.43\n",
      "        ...  \n",
      "271     11.25\n",
      "272      4.00\n",
      "273     19.61\n",
      "274     47.61\n",
      "275    345.00\n",
      "Name: montant, Length: 105, dtype: float64\n",
      "27         1.60\n",
      "28         8.80\n",
      "29         0.80\n",
      "30       345.00\n",
      "32        10.32\n",
      "33         8.72\n",
      "34        24.00\n",
      "35        74.58\n",
      "59         3.48\n",
      "60         1.84\n",
      "61         7.02\n",
      "62         1.60\n",
      "63         1.12\n",
      "64         1.44\n",
      "65        32.00\n",
      "66         9.60\n",
      "67        42.45\n",
      "68         1.60\n",
      "69         5.60\n",
      "70       345.00\n",
      "88        14.16\n",
      "89        22.59\n",
      "90         7.74\n",
      "91         6.89\n",
      "92         1.44\n",
      "93        36.00\n",
      "94        73.00\n",
      "95         5.10\n",
      "96         1.84\n",
      "97        14.39\n",
      "98        10.40\n",
      "112        8.00\n",
      "113        4.39\n",
      "114        2.40\n",
      "115       10.20\n",
      "116       18.24\n",
      "117       18.45\n",
      "118        9.31\n",
      "119       29.00\n",
      "120       10.05\n",
      "121        2.72\n",
      "122        8.80\n",
      "123        7.12\n",
      "124       19.84\n",
      "125       19.36\n",
      "126       10.40\n",
      "127        8.00\n",
      "128        6.60\n",
      "129       27.68\n",
      "130       17.20\n",
      "131       29.52\n",
      "132       96.00\n",
      "133       24.48\n",
      "134      183.99\n",
      "198    15000.00\n",
      "199       10.51\n",
      "200       17.20\n",
      "201        1.92\n",
      "202        1.60\n",
      "203        7.46\n",
      "Name: montant, dtype: float64\n",
      "24      48.00\n",
      "25      28.96\n",
      "26     280.00\n",
      "82     138.24\n",
      "83       3.20\n",
      "84       4.41\n",
      "85       7.84\n",
      "86      15.81\n",
      "87      48.00\n",
      "100     20.40\n",
      "101      6.38\n",
      "102      2.51\n",
      "103      4.63\n",
      "104      5.88\n",
      "105      2.32\n",
      "106     26.58\n",
      "107      9.20\n",
      "108      7.99\n",
      "109     19.20\n",
      "110     15.99\n",
      "111    345.00\n",
      "Name: montant, dtype: float64\n"
     ]
    },
    {
     "data": {
      "image/png": "[encoded data removed]",
      "text/plain": [
       "<Figure size 720x504 with 1 Axes>"
      ]
     },
     "metadata": {
      "needs_background": "light"
     },
     "output_type": "display_data"
    }
   ],
   "source": [
    "for ind, tr in enumerate(tranches): # pour chaque tranche, ind reçoit le numéro de tranche et tr la tranche en question\n",
    "    montants = -depenses.loc[indices==ind,\"montant\"] # sélection des individus de la tranche ind\n",
    "    if len(montants) > 0:\n",
    "        g = {\n",
    "            'valeurs': montants,\n",
    "            'centre_classe': tr-(taille_classe/2),\n",
    "            'taille': len(montants),\n",
    "            'quartiles': [np.percentile(montants,p) for p in [25,50,75]]\n",
    "        }\n",
    "        groupes.append(g)\n",
    "\n",
    "plt.figure(figsize=(10,7))\n",
    "        \n",
    "# affichage des boxplots\n",
    "plt.boxplot([g[\"valeurs\"] for g in groupes],\n",
    "            positions= [g[\"centre_classe\"] for g in groupes], # abscisses des boxplots\n",
    "            showfliers= False, # on ne prend pas en compte les outliers\n",
    "            widths= taille_classe*0.7) # largeur graphique des boxplots\n",
    "\n",
    "# affichage des effectifs de chaque classe\n",
    "for g in groupes:\n",
    "    plt.text(g[\"centre_classe\"],0,\"(n={})\".format(g[\"taille\"]),horizontalalignment='center',verticalalignment='top')     \n",
    "plt.show()"
   ]
  },
  {
   "cell_type": "markdown",
   "id": "eb3f33e3",
   "metadata": {},
   "source": [
    "Pour calculer le coefficient de Pearson et la covariance, 2 lignes suffisent !"
   ]
  },
  {
   "cell_type": "code",
   "execution_count": 45,
   "id": "644e637a",
   "metadata": {},
   "outputs": [
    {
     "name": "stdout",
     "output_type": "stream",
     "text": [
      "0.0344079028351006\n",
      "19669.922151007904\n"
     ]
    }
   ],
   "source": [
    "print(st.pearsonr(depenses[\"solde_avt_ope\"],-depenses[\"montant\"])[0])\n",
    "print(np.cov(depenses[\"solde_avt_ope\"],-depenses[\"montant\"],ddof=0)[1,0])"
   ]
  },
  {
   "cell_type": "markdown",
   "id": "4fd3312e",
   "metadata": {},
   "source": [
    "# <a name=\"C10\"> P4C4 - Analysez deux variables quantitatives par régression linéaire</a>\n",
    "\n",
    "Tout d'abord, il faut calculer la variable attente ! Voici le code permettant de créer cela :"
   ]
  },
  {
   "cell_type": "code",
   "execution_count": 43,
   "id": "c49efa34",
   "metadata": {},
   "outputs": [],
   "source": [
    "# Selection du sous-échantillon\n",
    "courses = data.loc[data.categ == \"COURSES\", :]\n",
    "\n",
    "# On trie les opérations par date\n",
    "courses = courses.sort_values(\"date_operation\")\n",
    "\n",
    "# On ramène les montants en positif\n",
    "courses[\"montant\"] = -courses[\"montant\"]\n",
    "\n",
    "# calcul de la variable attente\n",
    "r = []\n",
    "last_date = dt.datetime.now()\n",
    "for i,row in courses.iterrows():\n",
    "    days = (row[\"date_operation\"]-last_date).days\n",
    "    if days == 0:\n",
    "        r.append(r[-1])\n",
    "    else:\n",
    "        r.append(days)\n",
    "    last_date = row[\"date_operation\"]\n",
    "courses[\"attente\"] = r\n",
    "courses = courses.iloc[1:,]\n",
    "\n",
    "# on regroupe les opérations qui ont été effectués à la même date\n",
    "# (courses réalisées le même jour mais dans 2 magasins différents)\n",
    "a = courses.groupby(\"date_operation\")[\"montant\"].sum()\n",
    "b = courses.groupby(\"date_operation\")[\"attente\"].first()\n",
    "courses = pd.DataFrame({\"montant\":a, \"attente\":b})"
   ]
  },
  {
   "cell_type": "markdown",
   "id": "17657ab2",
   "metadata": {},
   "source": [
    "On crée ici au final un sous-échantillon qui ne contient que les opérations de catégorie courses, et que l'on appelle...  courses  !\n",
    "\n",
    "Essayons d'afficher le diagramme de dispersion avec X = attente et Y = montant, et regardons si tous les points sont alignés :"
   ]
  },
  {
   "cell_type": "code",
   "execution_count": 44,
   "id": "0c126033",
   "metadata": {},
   "outputs": [
    {
     "data": {
      "image/png": "[encoded data removed]",
      "text/plain": [
       "<Figure size 432x288 with 1 Axes>"
      ]
     },
     "metadata": {
      "needs_background": "light"
     },
     "output_type": "display_data"
    }
   ],
   "source": [
    "plt.plot(courses['attente'],courses['montant'], \"o\")\n",
    "plt.xlabel(\"attente\")\n",
    "plt.ylabel(\"montant\")\n",
    "plt.show()"
   ]
  },
  {
   "cell_type": "markdown",
   "id": "5cde7384",
   "metadata": {},
   "source": [
    "On peut à présent effectuer notre régression linéaire. Voici comment estimer a et b avec Python. Le code est un peu complexe, mais retenez que la dernière ligne crée les variables  a  et  b  contenant les estimations."
   ]
  },
  {
   "cell_type": "code",
   "execution_count": 45,
   "id": "1c706c67",
   "metadata": {},
   "outputs": [],
   "source": [
    "import statsmodels.api as sm\n",
    "\n",
    "Y = courses['montant']\n",
    "X = courses[['attente']]\n",
    "X = X.copy() # On modifiera X, on en crée donc une copie\n",
    "X['intercept'] = 1.\n",
    "result = sm.OLS(Y, X).fit() # OLS = Ordinary Least Square (Moindres Carrés Ordinaire)\n",
    "a,b = result.params['attente'],result.params['intercept']"
   ]
  },
  {
   "cell_type": "markdown",
   "id": "2fe36194",
   "metadata": {},
   "source": [
    "Voici comment tracer la droite de régression à partir des coefficients obtenus :"
   ]
  },
  {
   "cell_type": "code",
   "execution_count": 46,
   "id": "50f7da54",
   "metadata": {},
   "outputs": [
    {
     "data": {
      "image/png": "[encoded data removed]",
      "text/plain": [
       "<Figure size 432x288 with 1 Axes>"
      ]
     },
     "metadata": {
      "needs_background": "light"
     },
     "output_type": "display_data"
    }
   ],
   "source": [
    "plt.plot(courses.attente,courses.montant, \"o\")\n",
    "plt.plot(np.arange(15),[a*x+b for x in np.arange(15)])\n",
    "plt.xlabel(\"attente\")\n",
    "plt.ylabel(\"montant\")\n",
    "plt.show()"
   ]
  },
  {
   "cell_type": "markdown",
   "id": "d25d723a",
   "metadata": {},
   "source": [
    "Régression linéaire sans les outliers :"
   ]
  },
  {
   "cell_type": "code",
   "execution_count": 47,
   "id": "fa7a1c85",
   "metadata": {},
   "outputs": [
    {
     "name": "stdout",
     "output_type": "stream",
     "text": [
      "attente      3.030823\n",
      "intercept    5.411480\n",
      "dtype: float64\n"
     ]
    },
    {
     "data": {
      "image/png": "[encoded data removed]",
      "text/plain": [
       "<Figure size 432x288 with 1 Axes>"
      ]
     },
     "metadata": {
      "needs_background": "light"
     },
     "output_type": "display_data"
    }
   ],
   "source": [
    "courses = courses.loc[courses['attente'] < 15, :]\n",
    "\n",
    "Y = courses['montant']\n",
    "X = courses[['attente']]\n",
    "X = X.copy() # On modifiera X, on en crée donc une copie\n",
    "X['intercept'] = 1.\n",
    "result = sm.OLS(Y, X).fit() # OLS = Ordinary Least Square (Moindres Carrés Ordinaire)\n",
    "a_new,b_new = result.params['attente'],result.params['intercept']\n",
    "\n",
    "print(result.params)\n",
    "\n",
    "plt.plot(courses.attente,courses.montant, \"o\")\n",
    "plt.plot(np.arange(15),[a_new*x+b_new for x in np.arange(15)])\n",
    "plt.plot(np.arange(15),[a*x+b for x in np.arange(15)])\n",
    "plt.xlabel(\"attente\")\n",
    "plt.ylabel(\"montant\")\n",
    "plt.show()\n"
   ]
  },
  {
   "cell_type": "markdown",
   "id": "b4710fa4",
   "metadata": {},
   "source": [
    "# <a name=\"C11\"> P4C5 - Analysez une variable quantitative et une qualitative par ANOVA</a>\n",
    "\n",
    "Voici le code qui permet de représenter une variable quantitative et une variable qualitative. Tout d'abord, créez le sous-échantillon sur lequel vous souhaitez travailler en adaptant ce code, notamment les variables X et Y selon la question que vous aurez choisie parmi celles ci-dessus."
   ]
  },
  {
   "cell_type": "code",
   "execution_count": 48,
   "id": "0b51fa49",
   "metadata": {},
   "outputs": [],
   "source": [
    "X = \"categ\" # qualitative\n",
    "Y = \"montant\" # quantitative\n",
    "\n",
    "# On ne garde que les dépenses\n",
    "sous_echantillon = data.loc[data[\"montant\"] < 0, :].copy()\n",
    "# On remet les dépenses en positif\n",
    "sous_echantillon[\"montant\"] = -sous_echantillon[\"montant\"]\n",
    "# On n'étudie pas les loyers car trop gros:\n",
    "sous_echantillon = sous_echantillon.loc[sous_echantillon[\"categ\"] != \"LOYER\", :] "
   ]
  },
  {
   "cell_type": "markdown",
   "id": "881ee2a9",
   "metadata": {},
   "source": [
    "Ensuite, ces quelques lignes de code affichent votre graphique !"
   ]
  },
  {
   "cell_type": "code",
   "execution_count": 49,
   "id": "e39fa8f7",
   "metadata": {},
   "outputs": [
    {
     "data": {
      "image/png": "[encoded data removed]",
      "text/plain": [
       "<Figure size 432x288 with 1 Axes>"
      ]
     },
     "metadata": {
      "needs_background": "light"
     },
     "output_type": "display_data"
    }
   ],
   "source": [
    "modalites = sous_echantillon[X].unique()\n",
    "groupes = []\n",
    "for m in modalites:\n",
    "    groupes.append(sous_echantillon[sous_echantillon[X]==m][Y])\n",
    "\n",
    "# Propriétés graphiques (pas très importantes)    \n",
    "medianprops = {'color':\"black\"}\n",
    "meanprops = {'marker':'o', 'markeredgecolor':'black',\n",
    "            'markerfacecolor':'firebrick'}\n",
    "    \n",
    "plt.boxplot(groupes, labels=modalites, showfliers=False, medianprops=medianprops, \n",
    "            vert=False, patch_artist=True, showmeans=True, meanprops=meanprops)\n",
    "plt.show()"
   ]
  },
  {
   "cell_type": "markdown",
   "id": "c9d4a6a6",
   "metadata": {},
   "source": [
    "Les points rouges au milieu de chaque boîte à moustaches représentent la moyenne des valeurs.\n",
    "\n",
    "On voit ici que les montants sont très différents d'une catégorie à l'autre. Par exemple, les montants des dépenses de transport sont plus élevés et plus dispersés que ceux des factures téléphoniques. Mais vérifions maintenant cette affirmation par les chiffres, grâce à une modélisation.\n",
    "\n",
    "Voici à présent le code permettant de calculer $\\eta^2$ (eta carré ou eta squared, en anglais). Je vous propose ici de faire le calcul à la main ;) :"
   ]
  },
  {
   "cell_type": "code",
   "execution_count": 50,
   "id": "a1290118",
   "metadata": {},
   "outputs": [
    {
     "data": {
      "text/plain": [
       "0.027522800301841496"
      ]
     },
     "execution_count": 50,
     "metadata": {},
     "output_type": "execute_result"
    }
   ],
   "source": [
    "X = \"categ\" # qualitative\n",
    "Y = \"montant\" # quantitative\n",
    "\n",
    "def eta_squared(x,y):\n",
    "    moyenne_y = y.mean()\n",
    "    classes = []\n",
    "    for classe in x.unique():\n",
    "        yi_classe = y[x==classe]\n",
    "        classes.append({'ni': len(yi_classe),\n",
    "                        'moyenne_classe': yi_classe.mean()})\n",
    "    SCT = sum([(yj-moyenne_y)**2 for yj in y])\n",
    "    SCE = sum([c['ni']*(c['moyenne_classe']-moyenne_y)**2 for c in classes])\n",
    "    return SCE/SCT\n",
    "    \n",
    "eta_squared(sous_echantillon[X],sous_echantillon[Y])"
   ]
  },
  {
   "cell_type": "markdown",
   "id": "5dc1dad5",
   "metadata": {},
   "source": [
    "On va aller plus loin en analysant la corrélation entre la variable quart_mois créée précédemment et le montant des achats. En effet, il serait intéressant de déterminer si certains jours sont plus \"propices\" à la dépense que d'autres et pourquoi pas, essayer de dégager les raisons !"
   ]
  },
  {
   "cell_type": "code",
   "execution_count": 51,
   "id": "6165d014",
   "metadata": {},
   "outputs": [
    {
     "data": {
      "image/png": "[encoded data removed]",
      "text/plain": [
       "<Figure size 432x288 with 1 Axes>"
      ]
     },
     "metadata": {
      "needs_background": "light"
     },
     "output_type": "display_data"
    },
    {
     "data": {
      "text/plain": [
       "0.01139803800931087"
      ]
     },
     "execution_count": 51,
     "metadata": {},
     "output_type": "execute_result"
    }
   ],
   "source": [
    "X = \"quart_mois\" # qualitative\n",
    "Y = \"montant\" # quantitative\n",
    "\n",
    "modalites = sous_echantillon[X].unique()\n",
    "groupes = []\n",
    "for m in modalites:\n",
    "    groupes.append(sous_echantillon[sous_echantillon[X]==m][Y])\n",
    "\n",
    "# Propriétés graphiques (pas très importantes)    \n",
    "medianprops = {'color':\"black\"}\n",
    "meanprops = {'marker':'o', 'markeredgecolor':'black',\n",
    "            'markerfacecolor':'firebrick'}\n",
    "    \n",
    "plt.boxplot(groupes, labels=modalites, showfliers=False, medianprops=medianprops, \n",
    "            vert=False, patch_artist=True, showmeans=True, meanprops=meanprops)\n",
    "plt.show()\n",
    "\n",
    "eta_squared(sous_echantillon[X],sous_echantillon[Y])"
   ]
  },
  {
   "cell_type": "markdown",
   "id": "7a292333",
   "metadata": {},
   "source": [
    "# <a name=\"C12\"> P4C6 - Analysez deux variables qualitatives avec le Chi-2</a>\n",
    "\n",
    "Pour répondre à ces questions, vous pouvez afficher le tableau de contingence comme ceci :"
   ]
  },
  {
   "cell_type": "code",
   "execution_count": 52,
   "id": "45a7390b",
   "metadata": {},
   "outputs": [
    {
     "data": {
      "text/html": [
       "<div>\n",
       "<style scoped>\n",
       "    .dataframe tbody tr th:only-of-type {\n",
       "        vertical-align: middle;\n",
       "    }\n",
       "\n",
       "    .dataframe tbody tr th {\n",
       "        vertical-align: top;\n",
       "    }\n",
       "\n",
       "    .dataframe thead th {\n",
       "        text-align: right;\n",
       "    }\n",
       "</style>\n",
       "<table border=\"1\" class=\"dataframe\">\n",
       "  <thead>\n",
       "    <tr style=\"text-align: right;\">\n",
       "      <th>categ</th>\n",
       "      <th>AUTRE</th>\n",
       "      <th>COTISATION BANCAIRE</th>\n",
       "      <th>COURSES</th>\n",
       "      <th>FACTURE TELEPHONE</th>\n",
       "      <th>LOYER</th>\n",
       "      <th>RESTAURANT</th>\n",
       "      <th>TRANSPORT</th>\n",
       "      <th>Total</th>\n",
       "    </tr>\n",
       "    <tr>\n",
       "      <th>quart_mois</th>\n",
       "      <th></th>\n",
       "      <th></th>\n",
       "      <th></th>\n",
       "      <th></th>\n",
       "      <th></th>\n",
       "      <th></th>\n",
       "      <th></th>\n",
       "      <th></th>\n",
       "    </tr>\n",
       "  </thead>\n",
       "  <tbody>\n",
       "    <tr>\n",
       "      <th>1</th>\n",
       "      <td>55.0</td>\n",
       "      <td>7.0</td>\n",
       "      <td>6.0</td>\n",
       "      <td>6.0</td>\n",
       "      <td>NaN</td>\n",
       "      <td>3.0</td>\n",
       "      <td>9.0</td>\n",
       "      <td>86</td>\n",
       "    </tr>\n",
       "    <tr>\n",
       "      <th>2</th>\n",
       "      <td>45.0</td>\n",
       "      <td>NaN</td>\n",
       "      <td>11.0</td>\n",
       "      <td>1.0</td>\n",
       "      <td>6.0</td>\n",
       "      <td>7.0</td>\n",
       "      <td>6.0</td>\n",
       "      <td>76</td>\n",
       "    </tr>\n",
       "    <tr>\n",
       "      <th>3</th>\n",
       "      <td>60.0</td>\n",
       "      <td>NaN</td>\n",
       "      <td>7.0</td>\n",
       "      <td>NaN</td>\n",
       "      <td>NaN</td>\n",
       "      <td>4.0</td>\n",
       "      <td>4.0</td>\n",
       "      <td>75</td>\n",
       "    </tr>\n",
       "    <tr>\n",
       "      <th>4</th>\n",
       "      <td>52.0</td>\n",
       "      <td>NaN</td>\n",
       "      <td>15.0</td>\n",
       "      <td>NaN</td>\n",
       "      <td>NaN</td>\n",
       "      <td>2.0</td>\n",
       "      <td>2.0</td>\n",
       "      <td>71</td>\n",
       "    </tr>\n",
       "    <tr>\n",
       "      <th>Total</th>\n",
       "      <td>212.0</td>\n",
       "      <td>7.0</td>\n",
       "      <td>39.0</td>\n",
       "      <td>7.0</td>\n",
       "      <td>6.0</td>\n",
       "      <td>16.0</td>\n",
       "      <td>21.0</td>\n",
       "      <td>308</td>\n",
       "    </tr>\n",
       "  </tbody>\n",
       "</table>\n",
       "</div>"
      ],
      "text/plain": [
       "categ       AUTRE  COTISATION BANCAIRE  COURSES  FACTURE TELEPHONE  LOYER  \\\n",
       "quart_mois                                                                  \n",
       "1            55.0                  7.0      6.0                6.0    NaN   \n",
       "2            45.0                  NaN     11.0                1.0    6.0   \n",
       "3            60.0                  NaN      7.0                NaN    NaN   \n",
       "4            52.0                  NaN     15.0                NaN    NaN   \n",
       "Total       212.0                  7.0     39.0                7.0    6.0   \n",
       "\n",
       "categ       RESTAURANT  TRANSPORT  Total  \n",
       "quart_mois                                \n",
       "1                  3.0        9.0     86  \n",
       "2                  7.0        6.0     76  \n",
       "3                  4.0        4.0     75  \n",
       "4                  2.0        2.0     71  \n",
       "Total             16.0       21.0    308  "
      ]
     },
     "execution_count": 52,
     "metadata": {},
     "output_type": "execute_result"
    }
   ],
   "source": [
    "X = \"quart_mois\"\n",
    "Y = \"categ\"\n",
    "\n",
    "cont = data[[X,Y]].pivot_table(index=X,columns=Y,aggfunc=len,margins=True,margins_name=\"Total\")\n",
    "cont"
   ]
  },
  {
   "cell_type": "markdown",
   "id": "a46e27fe",
   "metadata": {},
   "source": [
    "Voici le code affichant cette heatmap :"
   ]
  },
  {
   "cell_type": "code",
   "execution_count": 53,
   "id": "fcb25834",
   "metadata": {},
   "outputs": [
    {
     "data": {
      "image/png": "[encoded data removed]",
      "text/plain": [
       "<Figure size 432x288 with 2 Axes>"
      ]
     },
     "metadata": {
      "needs_background": "light"
     },
     "output_type": "display_data"
    }
   ],
   "source": [
    "import seaborn as sns\n",
    "\n",
    "tx = cont.loc[:,[\"Total\"]]\n",
    "ty = cont.loc[[\"Total\"],:]\n",
    "n = len(data)\n",
    "indep = tx.dot(ty) / n\n",
    "\n",
    "c = cont.fillna(0) # On remplace les valeurs nulles par 0\n",
    "measure = (c-indep)**2/indep\n",
    "xi_n = measure.sum().sum()\n",
    "table = measure/xi_n\n",
    "sns.heatmap(table.iloc[:-1,:-1],annot=c.iloc[:-1,:-1])\n",
    "plt.show()"
   ]
  },
  {
   "cell_type": "code",
   "execution_count": null,
   "id": "5c5f47b4",
   "metadata": {},
   "outputs": [],
   "source": []
  }
 ],
 "metadata": {
  "kernelspec": {
   "display_name": "Python 3",
   "language": "python",
   "name": "python3"
  },
  "language_info": {
   "codemirror_mode": {
    "name": "ipython",
    "version": 3
   },
   "file_extension": ".py",
   "mimetype": "text/x-python",
   "name": "python",
   "nbconvert_exporter": "python",
   "pygments_lexer": "ipython3",
   "version": "3.8.8"
  }
 },
 "nbformat": 4,
 "nbformat_minor": 5
}
